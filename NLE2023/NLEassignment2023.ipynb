{
  "cells": [
    {
      "cell_type": "markdown",
      "metadata": {
        "id": "view-in-github",
        "colab_type": "text"
      },
      "source": [
        "<a href=\"https://colab.research.google.com/github/CallOfTheNight/Sussex-stuff/blob/main/NLE2023/NLEassignment2023.ipynb\" target=\"_parent\"><img src=\"https://colab.research.google.com/assets/colab-badge.svg\" alt=\"Open In Colab\"/></a>"
      ]
    },
    {
      "cell_type": "markdown",
      "metadata": {
        "id": "f2S8I2ny-ovS"
      },
      "source": [
        "# NLE Assignment: Sentiment Classification\n",
        "\n",
        "In this assignment, you will be investigating NLP methods for distinguishing positive and negative reviews written about movies.\n",
        "\n",
        "For assessment, you are expected to complete and submit this notebook file.  When answers require code, you may import and use library functions (unless explicitly told otherwise).  All of your own code should be included in the notebook rather than imported from elsewhere.  Written answers should also be included in the notebook.  You should insert as many extra cells as you want and change the type between code and markdown as appropriate.\n",
        "\n",
        "In order to avoid misconduct, you should not talk about the assignment questions with your peers.  If you are not sure what a question is asking you to do or have any other questions, please ask me or one of the Teaching Assistants.\n",
        "\n",
        "Marking guidelines are provided as a separate document.\n",
        "\n",
        "The first few cells contain code to set-up the assignment and bring in some data.   In order to provide unique datasets for analysis by different students, you must enter your candidate number in the following cell.  Otherwise do not change the code in these cells."
      ]
    },
    {
      "cell_type": "code",
      "execution_count": 1,
      "metadata": {
        "id": "1gXQAZas-l9c"
      },
      "outputs": [],
      "source": [
        "# Random seed number\n",
        "\n",
        "candidateno=284246 #this MUST be updated to your candidate number so that you get a unique data sample\n"
      ]
    },
    {
      "cell_type": "code",
      "execution_count": 2,
      "metadata": {
        "id": "nk8JTP88A8vs",
        "colab": {
          "base_uri": "https://localhost:8080/"
        },
        "outputId": "be24d915-7732-4e43-c425-678ffb45e9c9"
      },
      "outputs": [
        {
          "output_type": "stream",
          "name": "stderr",
          "text": [
            "[nltk_data] Downloading package punkt to /root/nltk_data...\n",
            "[nltk_data]   Unzipping tokenizers/punkt.zip.\n",
            "[nltk_data] Downloading package stopwords to /root/nltk_data...\n",
            "[nltk_data]   Unzipping corpora/stopwords.zip.\n",
            "[nltk_data] Downloading package movie_reviews to /root/nltk_data...\n",
            "[nltk_data]   Unzipping corpora/movie_reviews.zip.\n"
          ]
        }
      ],
      "source": [
        "#do not change the code in this cell\n",
        "#preliminary imports\n",
        "\n",
        "#set up nltk\n",
        "import nltk\n",
        "nltk.download('punkt')\n",
        "nltk.download('stopwords')\n",
        "nltk.download('movie_reviews')\n",
        "from nltk.corpus import stopwords\n",
        "from nltk.tokenize import word_tokenize\n",
        "from nltk.corpus import movie_reviews\n",
        "\n",
        "#for setting up training and testing data\n",
        "import random\n",
        "\n",
        "#useful other tools\n",
        "import re\n",
        "import pandas as pd\n",
        "import matplotlib.pyplot as plt\n",
        "%matplotlib inline\n",
        "from itertools import zip_longest\n",
        "from nltk.probability import FreqDist\n",
        "from nltk.classify.api import ClassifierI\n"
      ]
    },
    {
      "cell_type": "code",
      "execution_count": 3,
      "metadata": {
        "id": "BHBkzAccCVaZ"
      },
      "outputs": [],
      "source": [
        "#do not change the code in this cell\n",
        "def split_data(data, ratio=0.7): # when the second argument is not given, it defaults to 0.7\n",
        "    \"\"\"\n",
        "    Given corpus generator and ratio:\n",
        "     - partitions the corpus into training data and test data, where the proportion in train is ratio,\n",
        "\n",
        "    :param data: A corpus generator.\n",
        "    :param ratio: The proportion of training documents (default 0.7)\n",
        "    :return: a pair (tuple) of lists where the first element of the\n",
        "            pair is a list of the training data and the second is a list of the test data.\n",
        "    \"\"\"\n",
        "\n",
        "    data = list(data)\n",
        "    n = len(data)\n",
        "    train_indices = random.sample(range(n), int(n * ratio))\n",
        "    test_indices = list(set(range(n)) - set(train_indices))\n",
        "    train = [data[i] for i in train_indices]\n",
        "    test = [data[i] for i in test_indices]\n",
        "    return (train, test)\n",
        "\n",
        "\n",
        "def get_train_test_data():\n",
        "\n",
        "    #get ids of positive and negative movie reviews\n",
        "    pos_review_ids=movie_reviews.fileids('pos')\n",
        "    neg_review_ids=movie_reviews.fileids('neg')\n",
        "\n",
        "    #split positive and negative data into training and testing sets\n",
        "    pos_train_ids, pos_test_ids = split_data(pos_review_ids)\n",
        "    neg_train_ids, neg_test_ids = split_data(neg_review_ids)\n",
        "    #add labels to the data and concatenate\n",
        "    training = [(movie_reviews.words(f),'pos') for f in pos_train_ids]+[(movie_reviews.words(f),'neg') for f in neg_train_ids]\n",
        "    testing = [(movie_reviews.words(f),'pos') for f in pos_test_ids]+[(movie_reviews.words(f),'neg') for f in neg_test_ids]\n",
        "\n",
        "    return training, testing"
      ]
    },
    {
      "cell_type": "markdown",
      "metadata": {
        "id": "1N3LWwBYICPP"
      },
      "source": [
        "When you have run the cell below, your unique training and testing samples will be stored in `training_data` and `testing_data`"
      ]
    },
    {
      "cell_type": "code",
      "execution_count": 4,
      "metadata": {
        "id": "HJLegkdPFUJA",
        "colab": {
          "base_uri": "https://localhost:8080/"
        },
        "outputId": "c049a52c-c2f9-42c0-fe45-7e3dbbd72d2e"
      },
      "outputs": [
        {
          "output_type": "stream",
          "name": "stdout",
          "text": [
            "The amount of training data is 1400\n",
            "The amount of testing data is 600\n",
            "The representation of a single data item is below\n",
            "(['since', 'their', 'film', 'debut', 'in', '1984', ...], 'pos')\n"
          ]
        }
      ],
      "source": [
        "#do not change the code in this cell\n",
        "random.seed(candidateno)\n",
        "training_data,testing_data=get_train_test_data()\n",
        "print(\"The amount of training data is {}\".format(len(training_data)))\n",
        "print(\"The amount of testing data is {}\".format(len(testing_data)))\n",
        "print(\"The representation of a single data item is below\")\n",
        "print(training_data[0])"
      ]
    },
    {
      "cell_type": "markdown",
      "metadata": {
        "id": "RbTq6eGv2XT2"
      },
      "source": [
        "1)  \n",
        "a) **Generate** a list of 10 content words which are representative of the positive reviews in your training data.\n",
        "\n",
        "b) **Generate** a list of 10 content words which are representative of the negative reviews in your training data.\n",
        "\n",
        "c) **Explain** what you have done and why\n",
        "\n",
        "[20\\%]"
      ]
    },
    {
      "cell_type": "markdown",
      "source": [
        "// TODO 12-11-2023\n",
        "\n",
        "1. In order to generate a list of content words. The first things to do with the data set is to construct a bag-of-words representation for each document in the training and testing sets. It shows frequency of occurrence of each word.\n",
        "\n",
        "- in this step. I use the `FreqDist` function to do this. This function will return the frequency of each word. I loop all the dataset to get every frequency of all the words and save it with the label in a list.\n",
        "\n",
        "2. Then, to get the data set with meaningful words, The things have to do is remove the punctuation and stopwords, it is necessary to do a pre-processing for those words set.\n",
        "\n",
        "- I import a model from corpus which called **stopwords**. This model contain a list with english stopwords. It get things easy because I just compare if the word in my data set are one of the element in that stopwords list. If so just remove it. Then I remove all the word which not fully build by alpha. That would remove the number and poctuation. And Change all the words in lower case.\n",
        "\n",
        "3. The next step is figure out how often each of the word occurs in total in my dataset. It is really important for generate a words list.\n",
        "\n",
        "4. Finally, the word list I will generate for this question will be the 10 most frequency words in this dataset. For generate it. There is a nesseary function will be use below and already be used in the lab previous:\n",
        "\n",
        " `most_frequent_words`:  this function should take THREE arguments: 2 frequency distributions and a natural number, k. It should order words by how much more they occur in one frequency distribution than the other.   It should then return the top k highest scoring words.\n",
        "\n",
        "- Use this function above with different order of args to generate the list which aquire by the question."
      ],
      "metadata": {
        "id": "ua1BF1DyYCoi"
      }
    },
    {
      "cell_type": "code",
      "execution_count": 27,
      "metadata": {
        "id": "gvFu36xZ2XT5",
        "colab": {
          "base_uri": "https://localhost:8080/"
        },
        "outputId": "6a807139-2442-4efb-c15a-8b23b8d74af1"
      },
      "outputs": [
        {
          "output_type": "stream",
          "name": "stdout",
          "text": [
            "<class 'list'>\n"
          ]
        }
      ],
      "source": [
        "# Step 1: construct a bag-of-words saving in two sets.\n",
        "training_basic=[(FreqDist(wordlist),label) for (wordlist,label) in training_data]\n",
        "testing_basic=[(FreqDist(wordlist),label) for (wordlist,label) in testing_data]\n"
      ]
    },
    {
      "cell_type": "code",
      "execution_count": 22,
      "metadata": {
        "id": "RgePc9hV2XT_",
        "colab": {
          "base_uri": "https://localhost:8080/"
        },
        "outputId": "a5ae2f1c-9fae-46c6-9d7f-c8c87f44eabc"
      },
      "outputs": [
        {
          "output_type": "stream",
          "name": "stdout",
          "text": [
            "<class 'list'> <class 'tuple'> <class 'nltk.probability.FreqDist'> <class 'str'>\n",
            "(FreqDist({'lebowski': 8, 'dude': 8, 'one': 7, 'big': 5, 'coen': 4, 'films': 4, 'time': 4, 'fargo': 4, 'lot': 4, 'coens': 4, ...}), 'pos')\n"
          ]
        }
      ],
      "source": [
        "# Step 2: pre-processing.\n",
        "\n",
        "# Import the set of stopwords\n",
        "from nltk.corpus import stopwords\n",
        "stop = stopwords.words('english')\n",
        "\n",
        "# ---This function is copy from privious lab work.---\n",
        "# This function receive a wordlist arg, change all the letter to lower case, remove all the punctuation and the word which has not represent to any reviews.\n",
        "def normalise(wordlist):\n",
        "    # lower case the list. In this instance, The word-bag has already lower cased.\n",
        "    lowered=[word.lower() for word in wordlist]\n",
        "    return [word for word in lowered if word.isalpha() and word not in stop]\n",
        "\n",
        "# normalise all the data\n",
        "# ATTENCTION: DO NOT USE THE TESTING DATA\n",
        "training_norm=[(FreqDist(normalise(wordlist)),label) for (wordlist,label) in training_data]\n",
        "testing_norm=[(FreqDist(normalise(wordlist)),label) for (wordlist,label) in testing_data]\n",
        "\n",
        "# print and see if it's working well\n",
        "print(type(training_norm),type(training_norm[0]),type(training_norm[0][0]),type(training_norm[0][1]))\n",
        "print(training_norm[0])\n",
        "\n"
      ]
    },
    {
      "cell_type": "code",
      "source": [
        "# Step 3: Calculate Total Frequency\n",
        "\n",
        "# two blank list for store the frequency data\n",
        "pos_freq_dist=FreqDist()\n",
        "neg_freq_dist=FreqDist()\n",
        "\n",
        "# loop every data and collect the frequency in one FreqDist object\n",
        "for reviewDist,label in training_norm:\n",
        "    if label=='pos':\n",
        "        pos_freq_dist+=reviewDist\n",
        "    else:\n",
        "        neg_freq_dist+=reviewDist\n",
        "\n",
        "# Print and see if everything working well\n",
        "pos_freq_dist"
      ],
      "metadata": {
        "colab": {
          "base_uri": "https://localhost:8080/"
        },
        "id": "CZKfb6g_sEcn",
        "outputId": "03e0da71-a233-49e3-aa9e-1568078c0ecb"
      },
      "execution_count": 21,
      "outputs": [
        {
          "output_type": "execute_result",
          "data": {
            "text/plain": [
              "FreqDist({'film': 3699, 'one': 2113, 'movie': 1706, 'like': 1220, 'story': 885, 'good': 857, 'time': 851, 'also': 842, 'even': 819, 'well': 781, ...})"
            ]
          },
          "metadata": {},
          "execution_count": 21
        }
      ]
    },
    {
      "cell_type": "code",
      "source": [
        "# Step 4: Generate the word list\n",
        "\n",
        "# ---This function is copy from privious lab---\n",
        "# Receive three args, the list of postive frequency, the list of negetive frequency, and a number k\n",
        "# the important things for this function is the third args k. It means that how many word which have the most frequency would be return.\n",
        "# This function will calculate the difference between two views. So that the normal word such as\"one\" or \"from\" might be removed.\n",
        "# In order to get one view of most frequent word. It should be taken by the first arg and the other for the second arg.\n",
        "def most_frequent_words(posfreq,negfreq,topk):\n",
        "    difference=posfreq-negfreq\n",
        "    sorteddiff=difference.most_common()\n",
        "    justwords=[word for (word,freq) in sorteddiff[:topk]]\n",
        "    return justwords\n",
        "\n",
        "# use the function above to get the two list.\n",
        "pos_most = most_frequent_words(pos_freq_dist,neg_freq_dist,10)\n",
        "neg_most = most_frequent_words(neg_freq_dist,pos_freq_dist,10)\n",
        "\n",
        "# Answer here!\n",
        "print(\"list of positive reviews training data: \",pos_most)\n",
        "print(\"list of negitive reviews training data: \",neg_most)"
      ],
      "metadata": {
        "colab": {
          "base_uri": "https://localhost:8080/"
        },
        "id": "uPNXAWyUyhcg",
        "outputId": "752ef17a-f597-40c4-e923-e5dae5b1d2e4"
      },
      "execution_count": 26,
      "outputs": [
        {
          "output_type": "stream",
          "name": "stdout",
          "text": [
            "list of positive reviews training data:  ['film', 'life', 'also', 'story', 'great', 'best', 'well', 'world', 'many', 'family']\n",
            "list of negitive reviews training data:  ['movie', 'bad', 'plot', 'even', 'could', 'nothing', 'worst', 'script', 'supposed', 'get']\n"
          ]
        }
      ]
    },
    {
      "cell_type": "markdown",
      "metadata": {
        "id": "JauTzY5N2XUB"
      },
      "source": []
    },
    {
      "cell_type": "markdown",
      "metadata": {
        "id": "TApOQE6vND20"
      },
      "source": [
        "2)\n",
        "a) **Use** the lists generated in Q1 to build a **word list classifier** which will classify reviews as being positive or negative.\n",
        "\n",
        "b) **Explain** what you have done.\n",
        "\n",
        "[12.5\\%]\n"
      ]
    },
    {
      "cell_type": "code",
      "execution_count": 93,
      "metadata": {
        "id": "BThDMrcmODJy",
        "colab": {
          "base_uri": "https://localhost:8080/",
          "height": 35
        },
        "outputId": "8d1ae8eb-a02b-4f95-a48e-940c3c5cf5ef"
      },
      "outputs": [
        {
          "output_type": "execute_result",
          "data": {
            "text/plain": [
              "'neg'"
            ],
            "application/vnd.google.colaboratory.intrinsic+json": {
              "type": "string"
            }
          },
          "metadata": {},
          "execution_count": 93
        }
      ],
      "source": [
        "from nltk.classify.api import ClassifierI\n",
        "import random\n",
        "\n",
        "# My own word list classifier implements the interface ClassifierI\n",
        "class WordListClassifier(ClassifierI):\n",
        "\n",
        "# init this class with the given word list.\n",
        "# In this case, The word list is the one I generate above.\n",
        "    def __init__(self, pos, neg):\n",
        "        self._pos = pos\n",
        "        self._neg = neg\n",
        "\n",
        "# This function receive a FreqDist object as a arg to evaluate the score\n",
        "# for each word appear in the word list, the score will change depends on it's label\n",
        "# It's return one of two value:\"P\" for positive review or \"N\" for the negitive review.\n",
        "# The return depends on the score this doc get. And if the score is zero, The classifer\n",
        "# would randomly select a value.\n",
        "    def classify(self, doc):\n",
        "\n",
        "        score = 0\n",
        "\n",
        "        for word,value in doc.items():\n",
        "            if word in self._pos:\n",
        "                score+=value\n",
        "            if word in self._neg:\n",
        "                score-=value\n",
        "\n",
        "        if score < 0:\n",
        "          label = \"neg\"\n",
        "        elif score == 0:\n",
        "          label = random.choice([\"neg\",\"pos\"])\n",
        "        else:\n",
        "          label = \"pos\"\n",
        "        return label\n",
        "\n",
        "# define for implements the interface\n",
        "    def labels(self):\n",
        "        return (\"pos\", \"neg\")\n",
        "\n",
        "\n",
        "wordListClassifier = WordListClassifier(pos_most, neg_most)\n",
        "wordListClassifier.classify(FreqDist(\"This movie is so bad\".split()))\n"
      ]
    },
    {
      "cell_type": "markdown",
      "metadata": {
        "id": "C6vK5Vyz2XUF"
      },
      "source": []
    },
    {
      "cell_type": "markdown",
      "metadata": {
        "id": "YZdDO_Y92XUH"
      },
      "source": [
        "3)\n",
        "a) **Calculate** the accuracy, precision, recall and F1 score of your classifier.\n",
        "\n",
        "b) Is it reasonable to evaluate the classifier in terms of its accuracy?  **Explain** your answer and give a counter-example (a scenario where it would / would not be reasonable to evaluate the classifier in terms of its accuracy).\n",
        "\n",
        "[20\\%]"
      ]
    },
    {
      "cell_type": "code",
      "execution_count": 215,
      "metadata": {
        "id": "1LQc8bsA2XUI",
        "colab": {
          "base_uri": "https://localhost:8080/"
        },
        "outputId": "1830ee03-8d8b-4b2e-b733-b18076fcee8d"
      },
      "outputs": [
        {
          "output_type": "stream",
          "name": "stdout",
          "text": [
            "Accuracy:  0.67333\n"
          ]
        }
      ],
      "source": [
        "# Calculate the accuracy\n",
        "def classifier_evaluate(cls, test_data):\n",
        "    '''\n",
        "    cls: an instance of a classifier object which has a classify method which returns \"pos\" or \"neg\"\n",
        "    test_data: a list of pairs where each pair is a FreqDist rep of a doc and its label\n",
        "\n",
        "    returns: float point number which is the accuracy of the classifier on the test data provided\n",
        "    '''\n",
        "    acc = 0\n",
        "    docs,goldstandard=zip(*test_data) #note this neat pythonic way of turning a list of pairs into a pair of lists\n",
        "    #pass all of the docs to the classifier and get back a list of predictions\n",
        "    predictions=cls.classify_many(docs)\n",
        "    #zip the predictions with the goldstandard labels and compare\n",
        "    for prediction,goldlabel in zip(predictions,goldstandard):\n",
        "        if prediction==goldlabel:\n",
        "            acc+=1\n",
        "\n",
        "    # print(\"Acc\",acc,\"length\",(len(test_data)))\n",
        "    return acc / (len(test_data))\n",
        "\n",
        "# Run this function\n",
        "score = classifier_evaluate(WordListClassifier(pos_most,neg_most),testing_norm)\n",
        "print(\"Accuracy: \", round(score,5))"
      ]
    },
    {
      "cell_type": "code",
      "execution_count": 154,
      "metadata": {
        "id": "R_i80ceP2XUJ",
        "colab": {
          "base_uri": "https://localhost:8080/"
        },
        "outputId": "f44cf8a5-0288-4f29-9c7b-2e6520ff8a23"
      },
      "outputs": [
        {
          "output_type": "stream",
          "name": "stdout",
          "text": [
            "Precision:  0.61316\n",
            "Recall:  0.77667\n",
            "F1:  0.68529\n"
          ]
        }
      ],
      "source": [
        "# Class for calculate the precision, recall and F1 score\n",
        "class ConfusionMatrix:\n",
        "    def __init__(self,predictions,goldstandard,classes=(\"pos\",\"neg\")):\n",
        "\n",
        "        (self.c1,self.c2)=classes\n",
        "        #self.predictions=predictions\n",
        "        self.TP=0\n",
        "        self.FP=0\n",
        "        self.FN=0\n",
        "        self.TN=0\n",
        "        for p,g in zip(predictions,goldstandard):\n",
        "            if g==self.c1:\n",
        "                if p==self.c1:\n",
        "                    self.TP+=1\n",
        "                else:\n",
        "                    self.FN+=1\n",
        "\n",
        "            elif p==self.c1:\n",
        "                self.FP+=1\n",
        "            else:\n",
        "                self.TN+=1\n",
        "\n",
        "\n",
        "    def precision(self):\n",
        "        p=0\n",
        "        #put your code to compute precision here\n",
        "        p = self.TP / (self.TP + self.FP)\n",
        "\n",
        "        return p\n",
        "\n",
        "    def recall(self):\n",
        "        r=0\n",
        "\n",
        "        r = self.TP / (self.TP + self.FN)\n",
        "        #put your code to compute recall here\n",
        "\n",
        "        return r\n",
        "\n",
        "    def f1(self):\n",
        "        f1=0\n",
        "        #put your code to compute f1 here\n",
        "        p=self.precision()\n",
        "        r=self.recall()\n",
        "        f1=(p * r * 2)/ (p + r)\n",
        "        return f1\n",
        "\n",
        "# Test for this class\n",
        "docs,labels = zip(*testing_norm)\n",
        "cfm = ConfusionMatrix(WordListClassifier(pos_most,neg_most).classify_many(docs),labels)\n",
        "# print(cfm.TP)\n",
        "# print(cfm.FP)\n",
        "# print(cfm.TN)\n",
        "# print(cfm.FN)\n",
        "\n",
        "print(\"Precision: \", round(cfm.precision(),5))\n",
        "print(\"Recall: \", round(cfm.recall(),5))\n",
        "print(\"F1: \", round(cfm.f1(),5))"
      ]
    },
    {
      "cell_type": "code",
      "execution_count": null,
      "metadata": {
        "id": "VbYwwhcs2XUL"
      },
      "outputs": [],
      "source": []
    },
    {
      "cell_type": "markdown",
      "metadata": {
        "id": "AVZp0N5J2XUL"
      },
      "source": []
    },
    {
      "cell_type": "markdown",
      "metadata": {
        "id": "LIS9UpmJNEAp"
      },
      "source": [
        "4)\n",
        "a)  **Construct** a Naive Bayes classifier (e.g., from NLTK).\n",
        "\n",
        "b)  **Compare** the performance of your word list classifier with the Naive Bayes classifier.  **Discuss** your results.\n",
        "\n",
        "[12.5\\%]"
      ]
    },
    {
      "cell_type": "code",
      "execution_count": 221,
      "metadata": {
        "id": "Gwjig-Y12XUN",
        "colab": {
          "base_uri": "https://localhost:8080/",
          "height": 35
        },
        "outputId": "391fee69-b0de-4b9f-a5f3-e2b445a10f90"
      },
      "outputs": [
        {
          "output_type": "execute_result",
          "data": {
            "text/plain": [
              "'neg'"
            ],
            "application/vnd.google.colaboratory.intrinsic+json": {
              "type": "string"
            }
          },
          "metadata": {},
          "execution_count": 221
        }
      ],
      "source": [
        "import math\n",
        "class NBClassifier(ClassifierI):\n",
        "\n",
        "  def __init__(self,training_data):\n",
        "    self.td = training_data\n",
        "\n",
        "  def _set_known_vocabulary(self,training_data):\n",
        "    known=set()\n",
        "    for doc,label in training_data:\n",
        "        for word in list(doc.keys()):\n",
        "          known.add(word)\n",
        "    return known\n",
        "\n",
        "\n",
        "  def _set_priors(self,training_data):\n",
        "    priors={}\n",
        "\n",
        "    for (doc,label) in training_data:\n",
        "        priors[label]=priors.get(label,0)+1\n",
        "\n",
        "    total=sum(priors.values())\n",
        "\n",
        "    for key,value in priors.items():\n",
        "        priors[key]=value/total\n",
        "\n",
        "    return priors\n",
        "\n",
        "  def _set_cond_probs(self,training_data):\n",
        "    conds={}\n",
        "    for(doc,label) in training_data:\n",
        "        classcond=conds.get(label,{})\n",
        "        for word,value in doc.items():\n",
        "            classcond[word]=classcond.get(word,0)+value\n",
        "\n",
        "        conds[label]=classcond\n",
        "\n",
        "    vocab=self._set_known_vocabulary(training_data)\n",
        "    for label, classcond in conds.items():\n",
        "        for word in vocab:\n",
        "\n",
        "            classcond[word]=classcond.get(word,0)+1\n",
        "        conds[label]=classcond\n",
        "\n",
        "    for label,dist in conds.items():\n",
        "        total=sum(dist.values())\n",
        "        conds[label]={key:value/total for (key,value) in dist.items()}\n",
        "\n",
        "    return conds\n",
        "\n",
        "\n",
        "  def train(self,training_data):\n",
        "      self._set_known_vocabulary(training_data)\n",
        "      self._set_priors(training_data)\n",
        "      self._set_cond_probs(training_data)\n",
        "\n",
        "  def classify(self,doc):\n",
        "\n",
        "    known = self._set_known_vocabulary(self.td)\n",
        "    priors = self._set_priors(self.td)\n",
        "    c_probs = self._set_cond_probs(self.td)\n",
        "\n",
        "    doc_probs={key:math.log(value) for (key,value) in priors.items()}\n",
        "\n",
        "    for word in doc.keys():\n",
        "        # print(word)\n",
        "        if word in known:\n",
        "          doc_probs={classlabel:sofar+math.log(c_probs[classlabel].get(word,0)) for (classlabel,sofar) in doc_probs.items()}\n",
        "          # print(doc_probs)\n",
        "    highprob=max(doc_probs.values())\n",
        "    # print(doc_probs.values(),doc_probs.keys())\n",
        "    classes=[c for c in doc_probs.keys() if doc_probs[c]==highprob]\n",
        "    # print(classes)\n",
        "    return random.choice(classes)\n",
        "\n",
        "nbdemo = NBClassifier(training_norm)\n",
        "sent = \"movie great bad terrible\"\n",
        "doc = FreqDist(sent.split())\n",
        "nbdemo.classify(doc)\n"
      ]
    },
    {
      "cell_type": "code",
      "execution_count": 230,
      "metadata": {
        "id": "3AUsYRMa2XUN",
        "colab": {
          "base_uri": "https://localhost:8080/"
        },
        "outputId": "a7c5f208-714b-4839-ebe6-afe6369bb5a8"
      },
      "outputs": [
        {
          "output_type": "stream",
          "name": "stdout",
          "text": [
            "My word list classifier:\n",
            "Acc:  0.7\n",
            "Precision:  0.59544\n",
            "Recall:  0.95667\n",
            "F1:  0.73402\n",
            "====================\n",
            "NB classifier: \n",
            "Acc:  0.7\n",
            "Precision:  1.0\n",
            "Recall:  0.78\n",
            "F1:  0.8764\n"
          ]
        }
      ],
      "source": [
        "\n",
        "docs,labels = zip(*testing_norm)\n",
        "cfm = ConfusionMatrix(WordListClassifier(pos_most,neg_most).classify_many(docs[:50]),labels)\n",
        "\n",
        "print(\"My word list classifier:\")\n",
        "print(\"Acc: \",classifier_evaluate(wordListClassifier,testing_norm[:50]))\n",
        "print(\"Precision: \", round(cfm.precision(),5))\n",
        "print(\"Recall: \", round(cfm.recall(),5))\n",
        "print(\"F1: \", round(cfm.f1(),5))\n",
        "\n",
        "\n",
        "cfm = ConfusionMatrix(NBClassifier(training_norm).classify_many(docs[:50]),labels)\n",
        "print(\"=\" * 20)\n",
        "print(\"NB classifier: \")\n",
        "print(\"Acc: \",classifier_evaluate(nbdemo,testing_norm[:50]))\n",
        "print(\"Precision: \", round(cfm.precision(),5))\n",
        "print(\"Recall: \", round(cfm.recall(),5))\n",
        "print(\"F1: \", round(cfm.f1(),5))"
      ]
    },
    {
      "cell_type": "markdown",
      "metadata": {
        "id": "bytPkuHf2XUO"
      },
      "source": []
    },
    {
      "cell_type": "markdown",
      "metadata": {
        "id": "LGDXaVDqOSfY"
      },
      "source": [
        "5)\n",
        "a) Design and **carry out an experiment** into the impact of the **length of the wordlists** on the wordlist classifier.  Make sure you **describe** design decisions in your experiment, include a **graph** of your results and **discuss** your conclusions.\n",
        "\n",
        "b) Would you **recommend** a wordlist classifier or a Naive Bayes classifier for future work in this area?  **Justify** your answer.\n",
        "\n",
        "[25\\%]\n"
      ]
    },
    {
      "cell_type": "markdown",
      "metadata": {
        "id": "UlxoUthX2XUP"
      },
      "source": []
    },
    {
      "cell_type": "code",
      "execution_count": 250,
      "metadata": {
        "id": "T1L7mZ-k2XUQ",
        "colab": {
          "base_uri": "https://localhost:8080/",
          "height": 527
        },
        "outputId": "2585ffc8-6d6c-4220-8ede-7114feffddf6"
      },
      "outputs": [
        {
          "output_type": "stream",
          "name": "stdout",
          "text": [
            "{10: {'Acc:': 0.6516666666666666}, 60: {'Acc:': 0.6683333333333333}, 110: {'Acc:': 0.685}, 160: {'Acc:': 0.6616666666666666}, 210: {'Acc:': 0.6766666666666666}, 260: {'Acc:': 0.665}, 310: {'Acc:': 0.6716666666666666}, 360: {'Acc:': 0.6616666666666666}, 410: {'Acc:': 0.6516666666666666}, 460: {'Acc:': 0.6616666666666666}, 510: {'Acc:': 0.6566666666666666}, 560: {'Acc:': 0.645}, 610: {'Acc:': 0.6583333333333333}, 660: {'Acc:': 0.6666666666666666}, 710: {'Acc:': 0.6666666666666666}, 760: {'Acc:': 0.6566666666666666}, 810: {'Acc:': 0.6583333333333333}, 860: {'Acc:': 0.655}, 910: {'Acc:': 0.655}, 960: {'Acc:': 0.655}}\n"
          ]
        },
        {
          "output_type": "execute_result",
          "data": {
            "text/plain": [
              "Text(0.5, 0, 'Sample Size')"
            ]
          },
          "metadata": {},
          "execution_count": 250
        },
        {
          "output_type": "display_data",
          "data": {
            "text/plain": [
              "<Figure size 640x480 with 1 Axes>"
            ],
            "image/png": "[encoded data removed]"
          },
          "metadata": {}
        }
      ],
      "source": [
        "#\n",
        "import pandas as pd\n",
        "\n",
        "\n",
        "acc = {}\n",
        "\n",
        "for topk in range(10,1000,50):\n",
        "\n",
        "  pos_most = most_frequent_words(pos_freq_dist,neg_freq_dist,topk)\n",
        "  neg_most = most_frequent_words(neg_freq_dist,pos_freq_dist,topk)\n",
        "\n",
        "  testWordListClassifier = WordListClassifier(pos_most,neg_most)\n",
        "\n",
        "  temp = classifier_evaluate(testWordListClassifier,testing_norm)\n",
        "  acc[topk] = {\"Acc:\":temp}\n",
        "print(acc)\n",
        "\n",
        "df=pd.DataFrame(acc)\n",
        "df=df.transpose()\n",
        "\n",
        "ax = df.plot(kind=\"line\",title=\"Experimental Results\")\n",
        "ax.set_ylabel(\"Accuracy\")\n",
        "ax.set_ybound(0.4,0.8)\n",
        "ax.set_xlabel(\"Sample Size\")"
      ]
    },
    {
      "cell_type": "code",
      "execution_count": 252,
      "metadata": {
        "id": "xFeOWIRm2XUQ",
        "colab": {
          "base_uri": "https://localhost:8080/"
        },
        "outputId": "d13a1d3d-b56f-428e-f355-13ca5451ddf8"
      },
      "outputs": [
        {
          "output_type": "execute_result",
          "data": {
            "text/plain": [
              "20"
            ]
          },
          "metadata": {},
          "execution_count": 252
        }
      ],
      "source": []
    },
    {
      "cell_type": "code",
      "execution_count": null,
      "metadata": {
        "id": "VT82P88M2XUQ"
      },
      "outputs": [],
      "source": []
    },
    {
      "cell_type": "markdown",
      "metadata": {
        "id": "Ym-TGvYS2XUR"
      },
      "source": []
    },
    {
      "cell_type": "code",
      "execution_count": 251,
      "metadata": {
        "colab": {
          "base_uri": "https://localhost:8080/"
        },
        "id": "34rdlS_iPov6",
        "outputId": "f04c0ea6-2505-4639-b3ac-26023a5a875c"
      },
      "outputs": [
        {
          "output_type": "stream",
          "name": "stdout",
          "text": [
            "Drive already mounted at /content/drive; to attempt to forcibly remount, call drive.mount(\"/content/drive\", force_remount=True).\n",
            "Submission length is 60\n"
          ]
        }
      ],
      "source": [
        "##This code will word count all of the markdown cells in the notebook saved at filepath\n",
        "\n",
        "import io\n",
        "from nbformat import current\n",
        "\n",
        "from google.colab import drive\n",
        "drive.mount('/content/drive')\n",
        "\n",
        "filepath=\"/content/drive/MyDrive/Colab Notebooks/NLEassignment2023.ipynb\"\n",
        "question_count=432\n",
        "\n",
        "with io.open(filepath, 'r', encoding='utf-8') as f:\n",
        "    nb = current.read(f, 'json')\n",
        "\n",
        "word_count = 0\n",
        "for cell in nb.worksheets[0].cells:\n",
        "    if cell.cell_type == \"markdown\":\n",
        "        word_count += len(cell['source'].replace('#', '').lstrip().split(' '))\n",
        "print(\"Submission length is {}\".format(word_count-question_count))"
      ]
    }
  ],
  "metadata": {
    "colab": {
      "provenance": [],
      "include_colab_link": true
    },
    "kernelspec": {
      "display_name": "Python 3",
      "language": "python",
      "name": "python3"
    },
    "language_info": {
      "codemirror_mode": {
        "name": "ipython",
        "version": 3
      },
      "file_extension": ".py",
      "mimetype": "text/x-python",
      "name": "python",
      "nbconvert_exporter": "python",
      "pygments_lexer": "ipython3",
      "version": "3.7.4"
    }
  },
  "nbformat": 4,
  "nbformat_minor": 0
}