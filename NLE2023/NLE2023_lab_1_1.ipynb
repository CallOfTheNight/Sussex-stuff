{
  "cells": [
    {
      "cell_type": "markdown",
      "metadata": {
        "id": "view-in-github",
        "colab_type": "text"
      },
      "source": [
        "<a href=\"https://colab.research.google.com/github/CallOfTheNight/NLE/blob/main/NLE2023_lab_1_1.ipynb\" target=\"_parent\"><img src=\"https://colab.research.google.com/assets/colab-badge.svg\" alt=\"Open In Colab\"/></a>"
      ]
    },
    {
      "cell_type": "markdown",
      "metadata": {
        "id": "9VbM-KqwFnCo"
      },
      "source": [
        "# Week 1: Introduction to Python (Part 1)"
      ]
    },
    {
      "cell_type": "markdown",
      "metadata": {
        "id": "zKtQO1ACFnCp"
      },
      "source": [
        "This is a python notebook file\n",
        "- it has the file extension **.ipynb**\n",
        "- it can be run in a web-based interactive computational environment such as **Google colab** or using Anaconda's Jupyter notebook environment\n",
        "\n",
        "Cells in a python notebook can contain **markdown** (like this one) or **code**.\n",
        "- To run a cell, press shift+Enter (or click on **Run**).\n",
        "- The output from a code cell will be printed beneath it.\n",
        "- If you run a markdown cell, the text will be formatted according to the markdown instructions.  \n",
        "    - If you are using Colab, click edit on this cell and see how the text was actually input.\n",
        "    - If you are using Anaconda, double click on this cell and see how the text was actually input.\n",
        "\n",
        "\n",
        "The notebooks this week are designed to give you the working knowledge of Python necessary to complete the lab sessions for Natural Language Engineering.\n",
        "\n",
        "- Run all of the code cells as you work through the notebook.\n",
        "- Try to understand what is happening in each code cell and predict the output before running it.\n",
        "- Get used to adding your own cells (both code and text) whereever you want to try things out\n",
        "    - You can use the + icon to add a cell. Find out how to change between adding markdown and code cells in whichever environment you are using.\n",
        "- Complete all of the exercises.\n",
        "- Discuss answers and ask questions!\n",
        "\n",
        "Add some more notes here\n"
      ]
    },
    {
      "cell_type": "markdown",
      "metadata": {
        "id": "qDG5hyThFnCq"
      },
      "source": [
        "## 1.1.1 Python types\n",
        "\n",
        "We are going to start by looking at some basic datatypes in Python.\n",
        "- String\n",
        "- Integer\n",
        "- Float"
      ]
    },
    {
      "cell_type": "markdown",
      "metadata": {
        "id": "mrkXavSnFnCr"
      },
      "source": [
        "### Strings\n",
        "A String is a datatype used to represent text.  In Python, Strings can be enclosed in double or single quotes.\n",
        "- 'Hello World'\n",
        "- \"Hello World\"  \n",
        "\n",
        "Quite often we want to display or print strings to output - we can do this with Python's built-in *print()* function.  We will look more at functions later - but for now, *print()* is a function which takes one or more arguments (specified in the () after the keyword *print*).  The arguments will be printed in the output when the cell is run.\n",
        "\n",
        "Run the code in the cells below by clicking on them and then pressing \"shift\"+\"enter\" (or by clicking on the play button next to the cell in google colab)."
      ]
    },
    {
      "cell_type": "code",
      "execution_count": null,
      "metadata": {
        "cellView": "both",
        "id": "eB4pulT1FnCr"
      },
      "outputs": [],
      "source": [
        "print('Hello World')"
      ]
    },
    {
      "cell_type": "code",
      "execution_count": null,
      "metadata": {
        "cellView": "both",
        "id": "g8lP_dy3FnC0"
      },
      "outputs": [],
      "source": [
        "print(\"Hello World\")"
      ]
    },
    {
      "cell_type": "code",
      "execution_count": null,
      "metadata": {
        "cellView": "both",
        "id": "KZ6_mRk7FnC4"
      },
      "outputs": [],
      "source": [
        "# This is a comment (# at the beginning of the line)\n",
        "# Note that a string enclosed in double quotes can contain single quotes as part of the string:\n",
        "print(\"'A reader lives a thousand lives before he dies,' said Jojen. 'The man who never reads lives only one.'\")"
      ]
    },
    {
      "cell_type": "code",
      "execution_count": null,
      "metadata": {
        "cellView": "both",
        "id": "xPK32VPFFnC7"
      },
      "outputs": [],
      "source": [
        "# ...and a string enclosed in single quotes can contain double quotes as part of the string:\n",
        "print('\"A reader lives a thousand lives before he dies,\" said Jojen. \"The man who never reads lives only one.\"')"
      ]
    },
    {
      "cell_type": "markdown",
      "metadata": {
        "id": "3vdfNbU7FnC-"
      },
      "source": [
        "As an alternative to using the explicit `print` function, when a cell is run, Python will print the value of the **last line of code** in a cell. Try running the following cell."
      ]
    },
    {
      "cell_type": "code",
      "execution_count": null,
      "metadata": {
        "cellView": "both",
        "colab": {
          "base_uri": "https://localhost:8080/",
          "height": 35
        },
        "id": "A2-pPI1uFnC-",
        "outputId": "b38da29e-ca5a-4d49-de96-142e5bcdc566"
      },
      "outputs": [
        {
          "output_type": "execute_result",
          "data": {
            "text/plain": [
              "'\"A reader lives a thousand lives before he dies,\" said Jojen. \"The man who never reads lives only one.\"'"
            ],
            "application/vnd.google.colaboratory.intrinsic+json": {
              "type": "string"
            }
          },
          "metadata": {},
          "execution_count": 1
        }
      ],
      "source": [
        "\"Hello World\"\n",
        "'\"A reader lives a thousand lives before he dies,\" said Jojen. \"The man who never reads lives only one.\"'"
      ]
    },
    {
      "cell_type": "markdown",
      "metadata": {
        "id": "cZDL88JJFnDC"
      },
      "source": [
        "### Integers\n",
        "Integers represent whole numbers"
      ]
    },
    {
      "cell_type": "code",
      "execution_count": null,
      "metadata": {
        "cellView": "both",
        "id": "giw9LRReFnDD"
      },
      "outputs": [],
      "source": [
        "75"
      ]
    },
    {
      "cell_type": "markdown",
      "metadata": {
        "id": "YB0MNDS_FnDF"
      },
      "source": [
        "### Floats\n",
        "Floats represent decimal or floating point numbers"
      ]
    },
    {
      "cell_type": "code",
      "execution_count": null,
      "metadata": {
        "cellView": "both",
        "id": "mhx4-efOFnDG"
      },
      "outputs": [],
      "source": [
        "6.3646"
      ]
    },
    {
      "cell_type": "markdown",
      "metadata": {
        "id": "n4knaxEUFnDL"
      },
      "source": [
        "When a string contains just digits, the function `int` will **cast** that string to an integer."
      ]
    },
    {
      "cell_type": "code",
      "execution_count": null,
      "metadata": {
        "cellView": "both",
        "id": "tbtH6FvdFnDM"
      },
      "outputs": [],
      "source": [
        "# give the type of the string '623'\n",
        "type('623')"
      ]
    },
    {
      "cell_type": "code",
      "execution_count": null,
      "metadata": {
        "cellView": "both",
        "id": "N22M5-qQFnDO"
      },
      "outputs": [],
      "source": [
        "# cast the string '623' to an integer\n",
        "int('623')"
      ]
    },
    {
      "cell_type": "code",
      "execution_count": null,
      "metadata": {
        "cellView": "both",
        "id": "8pWv1f9xFnDR"
      },
      "outputs": [],
      "source": [
        "# give the type that results from casting the string '623' to an integer.\n",
        "type(int('623'))"
      ]
    },
    {
      "cell_type": "markdown",
      "metadata": {
        "id": "735fikuNioBz"
      },
      "source": [
        "Thinking about types is really important as the type of a variable or value determines what operations can be carried out on it.  "
      ]
    },
    {
      "cell_type": "markdown",
      "metadata": {
        "id": "cWOrXMDLFnDU"
      },
      "source": [
        "## 1.1.2 Basic operations\n",
        "\n",
        "Now we will look at some operations which can be carried out on the basic datatypes."
      ]
    },
    {
      "cell_type": "markdown",
      "metadata": {
        "id": "kk9mYvGNFnDV"
      },
      "source": [
        "Strings can be joined using `+`"
      ]
    },
    {
      "cell_type": "code",
      "execution_count": null,
      "metadata": {
        "id": "vP0HlX6LFnDW"
      },
      "outputs": [],
      "source": [
        "\"Hello \" + \"World\""
      ]
    },
    {
      "cell_type": "markdown",
      "metadata": {
        "id": "2dVCLErKFnDY"
      },
      "source": [
        "Standard mathematical operators can be used on integers and floats: `+`, `-`, `*`, and `/`."
      ]
    },
    {
      "cell_type": "code",
      "execution_count": null,
      "metadata": {
        "id": "onMFGmfMFnDY"
      },
      "outputs": [],
      "source": [
        "7 - 3 + 5"
      ]
    },
    {
      "cell_type": "markdown",
      "metadata": {
        "id": "7gMjIy7kioBz"
      },
      "source": [
        "Note that '+' is overloaded.  If it is applied to strings then it causes them to be concatenated.  If it is applied to integers or floats then it causes them to added."
      ]
    },
    {
      "cell_type": "code",
      "execution_count": null,
      "metadata": {
        "id": "7e9YlB35ioBz"
      },
      "outputs": [],
      "source": [
        "'6'+'2'"
      ]
    },
    {
      "cell_type": "code",
      "execution_count": null,
      "metadata": {
        "id": "Y-xG3M3zioBz"
      },
      "outputs": [],
      "source": [
        "6+2"
      ]
    },
    {
      "cell_type": "code",
      "execution_count": null,
      "metadata": {
        "id": "WXaoBxtSFnDb"
      },
      "outputs": [],
      "source": [
        "100*200*1000000"
      ]
    },
    {
      "cell_type": "code",
      "execution_count": null,
      "metadata": {
        "id": "NLOY4_HRFnDd"
      },
      "outputs": [],
      "source": [
        "3.5*8/4"
      ]
    },
    {
      "cell_type": "markdown",
      "metadata": {
        "id": "etiSVIlHFnDf"
      },
      "source": [
        "If we want to use floor division (rounded down to nearest integer), we use `//`."
      ]
    },
    {
      "cell_type": "code",
      "execution_count": 7,
      "metadata": {
        "id": "_-g8X9UoFnDg",
        "colab": {
          "base_uri": "https://localhost:8080/"
        },
        "outputId": "fdb150e1-031c-46da-995e-889e0a62aa4a"
      },
      "outputs": [
        {
          "output_type": "execute_result",
          "data": {
            "text/plain": [
              "3"
            ]
          },
          "metadata": {},
          "execution_count": 7
        }
      ],
      "source": [
        "7//2"
      ]
    },
    {
      "cell_type": "markdown",
      "metadata": {
        "id": "Od9_zOEFFnDj"
      },
      "source": [
        "Use `**` for exponentiation - e.g. `3**2 = 3^2`."
      ]
    },
    {
      "cell_type": "code",
      "execution_count": null,
      "metadata": {
        "id": "uvdPZL9GFnDj"
      },
      "outputs": [],
      "source": [
        "# This is equivalent to 2*2*2*2*2\n",
        "2**5"
      ]
    },
    {
      "cell_type": "code",
      "execution_count": null,
      "metadata": {
        "id": "EGlAZp0JFnDm"
      },
      "outputs": [],
      "source": [
        "10**4"
      ]
    },
    {
      "cell_type": "markdown",
      "metadata": {
        "id": "Rfz9iER4FnDo"
      },
      "source": [
        "Use double equals, `==`, to check equality."
      ]
    },
    {
      "cell_type": "code",
      "execution_count": null,
      "metadata": {
        "id": "Te9cfDcyFnDo"
      },
      "outputs": [],
      "source": [
        "5*4 == 2*10"
      ]
    },
    {
      "cell_type": "markdown",
      "metadata": {
        "id": "1gSJM7MOFnDq"
      },
      "source": [
        "Modulo operator `%` returns the remainder after integer division.  \n",
        "e.g. 13/5 = 2 with 3 leftover, so `13%5=3`."
      ]
    },
    {
      "cell_type": "code",
      "execution_count": null,
      "metadata": {
        "id": "RRbzUFRtFnDq"
      },
      "outputs": [],
      "source": [
        "7%3"
      ]
    },
    {
      "cell_type": "code",
      "execution_count": null,
      "metadata": {
        "id": "lwt0ojzAFnDs"
      },
      "outputs": [],
      "source": [
        "4 % 2"
      ]
    },
    {
      "cell_type": "markdown",
      "metadata": {
        "id": "GhmM1dfKFnDu"
      },
      "source": [
        "## 1.1.3 Python error reports\n",
        "\n",
        "Sometimes your code won't work and will generate an error.  You need to get used to looking at error reports and seeing what the type of error is and where it has occurred.\n",
        "\n",
        "For example, in the code below a Type Error occurs when attempting to concatenate a **string** and an **integer**.  This is because the operator + can only be used on values of the same type (e.g., two strings or 2 integers or 2 floats)."
      ]
    },
    {
      "cell_type": "code",
      "execution_count": 3,
      "metadata": {
        "id": "p-z-az-EFnDv",
        "colab": {
          "base_uri": "https://localhost:8080/",
          "height": 176
        },
        "outputId": "b5e20f4e-d2ca-40d4-d432-382cf8df8ca5"
      },
      "outputs": [
        {
          "output_type": "error",
          "ename": "TypeError",
          "evalue": "ignored",
          "traceback": [
            "\u001b[0;31m---------------------------------------------------------------------------\u001b[0m",
            "\u001b[0;31mTypeError\u001b[0m                                 Traceback (most recent call last)",
            "\u001b[0;32m<ipython-input-3-801ea13c8371>\u001b[0m in \u001b[0;36m<cell line: 1>\u001b[0;34m()\u001b[0m\n\u001b[0;32m----> 1\u001b[0;31m \u001b[0;34m\"Hello\"\u001b[0m \u001b[0;34m+\u001b[0m \u001b[0;36m3\u001b[0m\u001b[0;34m\u001b[0m\u001b[0;34m\u001b[0m\u001b[0m\n\u001b[0m",
            "\u001b[0;31mTypeError\u001b[0m: can only concatenate str (not \"int\") to str"
          ]
        }
      ],
      "source": [
        "\"Hello\" + 3"
      ]
    },
    {
      "cell_type": "markdown",
      "metadata": {
        "id": "5UZPTpHkFnD0"
      },
      "source": [
        "### **Exercise 1**\n",
        "In the empty cell below write a single line Python expression to print \"Hello world! My age is\", joined with another string containing your age."
      ]
    },
    {
      "cell_type": "code",
      "execution_count": 4,
      "metadata": {
        "id": "62ev4TNSFnD1",
        "colab": {
          "base_uri": "https://localhost:8080/",
          "height": 35
        },
        "outputId": "9f7bbeec-2856-4ce6-d399-6c139a59e248"
      },
      "outputs": [
        {
          "output_type": "execute_result",
          "data": {
            "text/plain": [
              "'Hello world! My age is22'"
            ],
            "application/vnd.google.colaboratory.intrinsic+json": {
              "type": "string"
            }
          },
          "metadata": {},
          "execution_count": 4
        }
      ],
      "source": [
        "\"Hello world! My age is \" + str(22)"
      ]
    },
    {
      "cell_type": "markdown",
      "metadata": {
        "id": "gLCGxj2lFnD4"
      },
      "source": [
        "## 1.1.4 Python identifiers\n",
        "\n",
        "Normally, we want to store values in variables so we can use them later.\n",
        "\n",
        "We can create a new variable (with any name) and **assign** a value to it (e.g., string, integer, float) using a single equals sign.\n"
      ]
    },
    {
      "cell_type": "code",
      "execution_count": null,
      "metadata": {
        "id": "DYDLTMMaFnD5"
      },
      "outputs": [],
      "source": [
        "student_name = \"Adam\""
      ]
    },
    {
      "cell_type": "markdown",
      "metadata": {
        "id": "Y-O6bj0MPQbp"
      },
      "source": [
        "The code above didn't generate any output - it just stored the string value \"Adam\" in the variable called *student_name*.  To see the current value of any variable, we can use the print function or just run a cell containing the variable name alone (or as the last line of the cell)."
      ]
    },
    {
      "cell_type": "code",
      "execution_count": null,
      "metadata": {
        "id": "Qtk88_GhPsru"
      },
      "outputs": [],
      "source": [
        "print(student_name)"
      ]
    },
    {
      "cell_type": "code",
      "execution_count": null,
      "metadata": {
        "id": "U-VQ5ed9PMjF"
      },
      "outputs": [],
      "source": [
        "student_name"
      ]
    },
    {
      "cell_type": "markdown",
      "metadata": {
        "id": "C91KrGB9XCju"
      },
      "source": [
        "You can use any name you like for a variable.  Note that variable names differ from Strings.  Strings are values which are enclosed in either single or double quotes.  Variable names do not have quotes.  A common mistake is to forget the quotes when you assign a String to a variable - this will generate an error (assuming you don't also have a variable with this name):"
      ]
    },
    {
      "cell_type": "code",
      "execution_count": null,
      "metadata": {
        "id": "TrTGodzyioB3"
      },
      "outputs": [],
      "source": [
        "student_name=Bill"
      ]
    },
    {
      "cell_type": "code",
      "execution_count": 19,
      "metadata": {
        "id": "Nx2ZnR8GioB3"
      },
      "outputs": [],
      "source": [
        "student_name=\"Bill\""
      ]
    },
    {
      "cell_type": "markdown",
      "metadata": {
        "id": "hQhAsWxCioB3"
      },
      "source": [
        "Be careful not to choose names which are also Python key words.  Python key words are highlighted in a different colour in the notebook (usually green).  "
      ]
    },
    {
      "cell_type": "code",
      "execution_count": null,
      "metadata": {
        "id": "qmXcTlbcXG_c"
      },
      "outputs": [],
      "source": [
        "print = \"Adam\""
      ]
    },
    {
      "cell_type": "markdown",
      "metadata": {
        "id": "ER0LKhLHXLiw"
      },
      "source": [
        "I have now overwritten the inbuilt function print with a String.  This means I can no longer use the *print()* function."
      ]
    },
    {
      "cell_type": "code",
      "execution_count": null,
      "metadata": {
        "id": "U4jn4-GdXVAe"
      },
      "outputs": [],
      "source": [
        "print(student_name)"
      ]
    },
    {
      "cell_type": "markdown",
      "metadata": {
        "id": "SCHu01m0XX1P"
      },
      "source": [
        "Even, if you go back and change or delete the offending cell, the print function appears to be gone.  \n",
        "\n",
        "Go back and try deleting the cell where we assigned the value \"Adam\" to print, and then calling the print function again."
      ]
    },
    {
      "cell_type": "code",
      "execution_count": null,
      "metadata": {
        "id": "rxwCYZDhX7oZ"
      },
      "outputs": [],
      "source": [
        "print(student_name)"
      ]
    },
    {
      "cell_type": "markdown",
      "metadata": {
        "id": "d3WlVeMVYAyy"
      },
      "source": [
        "You can fix this by using the del function or by restarting the runtime environment.  To restart the runtime environment, go to the **Kernel** menu and select `restart`.  Note, the **kernel** is the name used for the server or process which is actually running your notebook and your cells of code.  By restarting it, you are effectively rebooting and making everything as if you had just opened the notebook (and not run any cells)."
      ]
    },
    {
      "cell_type": "code",
      "execution_count": null,
      "metadata": {
        "id": "-lASGiiMYOfA"
      },
      "outputs": [],
      "source": [
        "del print\n",
        "print(student_name)"
      ]
    },
    {
      "cell_type": "markdown",
      "metadata": {
        "id": "hBXvr-yAYRyo"
      },
      "source": [
        "So, when choosing variable names, remember:\n",
        "- don't use keywords (or anything which might be a keyword).  \n",
        "- you could add numbers or extra words to the ends of your variable names to avoid accidentally overwriting keywords\n",
        "\n",
        "It is also best to:\n",
        "- use meaningful variable names.  This will to help you remember what the variables store (and to help other people read your code)\n",
        "- use _ to join separate words to form a single variable name.  This is a Python convention which is different to the convention of using camelCase (e.g., studentName) in other languages such as Java."
      ]
    },
    {
      "cell_type": "code",
      "execution_count": null,
      "metadata": {
        "id": "DZFqsmkrFnD7"
      },
      "outputs": [],
      "source": [
        "student_age = 21\n",
        "student_age"
      ]
    },
    {
      "cell_type": "markdown",
      "metadata": {
        "id": "-_2CuQzIFnD8"
      },
      "source": [
        "Operations can be carried out as before, using the variable names."
      ]
    },
    {
      "cell_type": "code",
      "execution_count": null,
      "metadata": {
        "id": "gigTQPh9FnD9"
      },
      "outputs": [],
      "source": [
        "student_age/2"
      ]
    },
    {
      "cell_type": "markdown",
      "metadata": {
        "id": "YXySeRasFnD_"
      },
      "source": [
        "We can update values associated with a variable using the operators `+=` , `-=` , `/=`, and `*=`.\n",
        "\n",
        "- For example, `+=` adds the number on the right to the current value.\n",
        "\n",
        "This is a useful shortcut - take your time to play around and familiarise yourself with this syntax."
      ]
    },
    {
      "cell_type": "code",
      "execution_count": null,
      "metadata": {
        "id": "rS8UqRjGFnD_"
      },
      "outputs": [],
      "source": [
        "#Run this cell multiple times to see what happens.\n",
        "#Note that each time you run this cell, it will add 5 to the stored value.\n",
        "student_age += 5\n",
        "student_age"
      ]
    },
    {
      "cell_type": "code",
      "execution_count": null,
      "metadata": {
        "id": "NPffXLteFnEC"
      },
      "outputs": [],
      "source": [
        "age_next_year=student_age+1\n",
        "age_next_year"
      ]
    },
    {
      "cell_type": "markdown",
      "metadata": {
        "id": "47IGIJ_5FnEE"
      },
      "source": [
        "### **Exercise 2a**\n",
        "In the cell below, assign appropriate values to the variables `my_name`, `my_age`, and `years_at_sussex`."
      ]
    },
    {
      "cell_type": "code",
      "execution_count": 5,
      "metadata": {
        "id": "R48xWepcFnEF"
      },
      "outputs": [],
      "source": [
        "my_name = \"WANG\"\n",
        "my_age = 22\n",
        "years_at_sussex = 0"
      ]
    },
    {
      "cell_type": "markdown",
      "metadata": {
        "id": "5r5EBtIWFnEH"
      },
      "source": [
        "### **Exercise 2b**\n",
        "In the cell below subtract `years_at_sussex` from `my_age` and assign this value to a new variable called `age_started_sussex`."
      ]
    },
    {
      "cell_type": "code",
      "execution_count": 6,
      "metadata": {
        "id": "3w8pNmxlFnEH"
      },
      "outputs": [],
      "source": [
        "age_started_sussex = my_age - years_at_sussex"
      ]
    },
    {
      "cell_type": "markdown",
      "metadata": {
        "id": "SAXqIJCGFnEJ"
      },
      "source": [
        "### **Exercise 2c**\n",
        "In the cell below practice using the `**`,  `+=` , `-=`, `/=`, and `*=` operators to update these values."
      ]
    },
    {
      "cell_type": "code",
      "execution_count": 58,
      "metadata": {
        "id": "Pi9p6uDNFnEJ",
        "colab": {
          "base_uri": "https://localhost:8080/"
        },
        "outputId": "9030ef15-a592-4514-9d77-2a43c05663f7"
      },
      "outputs": [
        {
          "output_type": "execute_result",
          "data": {
            "text/plain": [
              "1.0"
            ]
          },
          "metadata": {},
          "execution_count": 58
        }
      ],
      "source": [
        "temp = 5\n",
        "temp = temp ** temp\n",
        "temp += temp\n",
        "temp -= 1\n",
        "temp /= temp\n",
        "temp *= temp\n",
        "temp"
      ]
    },
    {
      "cell_type": "markdown",
      "metadata": {
        "id": "PZc8_X1HFnEL"
      },
      "source": [
        "### 1.1.5 Dynamic typing\n",
        "The `type` function is used to get an object's type: `int` for integer, `str` for string, etc."
      ]
    },
    {
      "cell_type": "code",
      "execution_count": 20,
      "metadata": {
        "id": "K3-ppLpXFnEM",
        "colab": {
          "base_uri": "https://localhost:8080/"
        },
        "outputId": "84c5ff83-503f-44a1-89be-e92186ea03e2"
      },
      "outputs": [
        {
          "output_type": "execute_result",
          "data": {
            "text/plain": [
              "str"
            ]
          },
          "metadata": {},
          "execution_count": 20
        }
      ],
      "source": [
        "type(student_name)"
      ]
    },
    {
      "cell_type": "code",
      "execution_count": 12,
      "metadata": {
        "id": "_gYq3u5kFnEO",
        "colab": {
          "base_uri": "https://localhost:8080/"
        },
        "outputId": "c96314d2-fd08-478f-c2a3-18c48c7733fc"
      },
      "outputs": [
        {
          "output_type": "execute_result",
          "data": {
            "text/plain": [
              "str"
            ]
          },
          "metadata": {},
          "execution_count": 12
        }
      ],
      "source": [
        "type(student_age)"
      ]
    },
    {
      "cell_type": "markdown",
      "metadata": {
        "id": "GZSLrzu1FnEQ"
      },
      "source": [
        "As Python has dynamic typing, if a variable name is assigned to a value of different type, the variable's type will change accordingly."
      ]
    },
    {
      "cell_type": "code",
      "execution_count": 11,
      "metadata": {
        "id": "BfUgYFeaFnEQ",
        "colab": {
          "base_uri": "https://localhost:8080/"
        },
        "outputId": "eaa1d044-f8b7-4853-a400-4dd4d13329cf"
      },
      "outputs": [
        {
          "output_type": "execute_result",
          "data": {
            "text/plain": [
              "str"
            ]
          },
          "metadata": {},
          "execution_count": 11
        }
      ],
      "source": [
        "student_age = \"Twenty\"\n",
        "type(student_age)"
      ]
    },
    {
      "cell_type": "markdown",
      "metadata": {
        "id": "S3hfkkG0FnET"
      },
      "source": [
        "### **Exercise 3**\n",
        "In the cell below reassign your `my_age` and `years_at_sussex` `int` variables to `string` giving the number in words. Print the type of these variables before and after."
      ]
    },
    {
      "cell_type": "code",
      "execution_count": 53,
      "metadata": {
        "id": "0iucP3xrFnET",
        "colab": {
          "base_uri": "https://localhost:8080/"
        },
        "outputId": "8f601b63-bd44-4e2a-a9c1-6cb7341e7757"
      },
      "outputs": [
        {
          "output_type": "stream",
          "name": "stdout",
          "text": [
            "<class 'int'>\n",
            "<class 'int'>\n",
            "<class 'str'>\n",
            "<class 'str'>\n"
          ]
        }
      ],
      "source": [
        "my_age = 22\n",
        "years_at_sussex = 0\n",
        "print(type(my_age))\n",
        "print(type(years_at_sussex))\n",
        "\n",
        "my_age = 'twenty two'\n",
        "years_at_sussex = 'zero'\n",
        "\n",
        "print(type(my_age))\n",
        "print(type(years_at_sussex))"
      ]
    },
    {
      "cell_type": "markdown",
      "metadata": {
        "id": "laR5iP8-FnEW"
      },
      "source": [
        "## 1.1.6 Lists\n",
        "\n",
        "We are now going to look at a more complex data structure.  A list is an ordered collection of other data types."
      ]
    },
    {
      "cell_type": "markdown",
      "metadata": {
        "id": "6yxvI5aNFnEW"
      },
      "source": [
        "Lists are initialised using square brackets, with objects separated by commas."
      ]
    },
    {
      "cell_type": "code",
      "execution_count": 15,
      "metadata": {
        "id": "yKYv8SsQFnEX",
        "colab": {
          "base_uri": "https://localhost:8080/"
        },
        "outputId": "175ec6dd-44b7-49ab-81ca-dc82f58006b5"
      },
      "outputs": [
        {
          "output_type": "execute_result",
          "data": {
            "text/plain": [
              "list"
            ]
          },
          "metadata": {},
          "execution_count": 15
        }
      ],
      "source": [
        "primes = [2, 3, 5, 7, 11]\n",
        "type(primes)"
      ]
    },
    {
      "cell_type": "markdown",
      "metadata": {
        "id": "dkG9qSwuFnEa"
      },
      "source": [
        "Lists can contain any data type."
      ]
    },
    {
      "cell_type": "code",
      "execution_count": 16,
      "metadata": {
        "id": "JFnie7bHFnEb",
        "colab": {
          "base_uri": "https://localhost:8080/"
        },
        "outputId": "cc90a01d-59f8-49d8-af2e-ff30cd029e30"
      },
      "outputs": [
        {
          "output_type": "execute_result",
          "data": {
            "text/plain": [
              "['string', 'another string', 'a third string']"
            ]
          },
          "metadata": {},
          "execution_count": 16
        }
      ],
      "source": [
        "list_of_strings =['string','another string','a third string']\n",
        "list_of_strings"
      ]
    },
    {
      "cell_type": "markdown",
      "metadata": {
        "id": "6eLVV8JWFnEd"
      },
      "source": [
        "'Empty' lists with no elements can also be initialised."
      ]
    },
    {
      "cell_type": "code",
      "execution_count": 17,
      "metadata": {
        "id": "2rhHKHX5FnEd"
      },
      "outputs": [],
      "source": [
        "empty_list = []"
      ]
    },
    {
      "cell_type": "markdown",
      "metadata": {
        "id": "Xm3qIOWIFnEh"
      },
      "source": [
        "Indexing into lists uses square brackets.\n",
        "- Note that indexing starts from zero."
      ]
    },
    {
      "cell_type": "code",
      "execution_count": 18,
      "metadata": {
        "id": "m6Bq2nVrFnEh",
        "colab": {
          "base_uri": "https://localhost:8080/"
        },
        "outputId": "5b90991c-64c9-4b56-eec1-71c8d9c75165"
      },
      "outputs": [
        {
          "output_type": "execute_result",
          "data": {
            "text/plain": [
              "2"
            ]
          },
          "metadata": {},
          "execution_count": 18
        }
      ],
      "source": [
        "primes[0]"
      ]
    },
    {
      "cell_type": "code",
      "execution_count": 21,
      "metadata": {
        "id": "94g6gbAwioB7",
        "colab": {
          "base_uri": "https://localhost:8080/"
        },
        "outputId": "ad658442-7359-4da1-d29e-b5eaafdef01a"
      },
      "outputs": [
        {
          "output_type": "execute_result",
          "data": {
            "text/plain": [
              "5"
            ]
          },
          "metadata": {},
          "execution_count": 21
        }
      ],
      "source": [
        "primes[2]"
      ]
    },
    {
      "cell_type": "markdown",
      "metadata": {
        "id": "TH9tJD0tFnEl"
      },
      "source": [
        "A colon, `:`, can be used to take a slice of a list between two indices.\n",
        "- Note that this will start from the first index, up to but NOT including the second index."
      ]
    },
    {
      "cell_type": "code",
      "execution_count": null,
      "metadata": {
        "id": "9BOj92VFFnEl"
      },
      "outputs": [],
      "source": [
        "primes[1:3]"
      ]
    },
    {
      "cell_type": "markdown",
      "metadata": {
        "id": "eB2oVNHcFnEn"
      },
      "source": [
        "If either index is omitted, the slice will go to the beginning/end of the list."
      ]
    },
    {
      "cell_type": "code",
      "execution_count": null,
      "metadata": {
        "id": "l4OikusAFnEo"
      },
      "outputs": [],
      "source": [
        "primes[:3]"
      ]
    },
    {
      "cell_type": "markdown",
      "metadata": {
        "id": "0qaVJjjCFnEq"
      },
      "source": [
        "To index from the end of the list use negative numbers."
      ]
    },
    {
      "cell_type": "code",
      "execution_count": null,
      "metadata": {
        "id": "uzHu9C_9FnEq"
      },
      "outputs": [],
      "source": [
        "primes[-1]"
      ]
    },
    {
      "cell_type": "code",
      "execution_count": null,
      "metadata": {
        "id": "Tb95_yJsFnEs"
      },
      "outputs": [],
      "source": [
        "primes[-2:]"
      ]
    },
    {
      "cell_type": "markdown",
      "metadata": {
        "id": "WQgrWdtLFnEv"
      },
      "source": [
        "To test for list membership use the keyword `in`."
      ]
    },
    {
      "cell_type": "code",
      "execution_count": 22,
      "metadata": {
        "id": "rUGuDZhyFnEv",
        "colab": {
          "base_uri": "https://localhost:8080/"
        },
        "outputId": "7a096a02-c7cc-4568-f66a-f663331e4f65"
      },
      "outputs": [
        {
          "output_type": "execute_result",
          "data": {
            "text/plain": [
              "True"
            ]
          },
          "metadata": {},
          "execution_count": 22
        }
      ],
      "source": [
        "5 in primes"
      ]
    },
    {
      "cell_type": "code",
      "execution_count": 23,
      "metadata": {
        "id": "juBtHyBbFnEy",
        "colab": {
          "base_uri": "https://localhost:8080/"
        },
        "outputId": "f5b09cba-a93e-460e-a056-c6492bb0608a"
      },
      "outputs": [
        {
          "output_type": "execute_result",
          "data": {
            "text/plain": [
              "False"
            ]
          },
          "metadata": {},
          "execution_count": 23
        }
      ],
      "source": [
        "6 in primes"
      ]
    },
    {
      "cell_type": "markdown",
      "metadata": {
        "id": "6Jjuc9ZrFnEz"
      },
      "source": [
        "The function `len` gives the length of a list."
      ]
    },
    {
      "cell_type": "code",
      "execution_count": 24,
      "metadata": {
        "id": "8ZQQPj-UFnEz",
        "colab": {
          "base_uri": "https://localhost:8080/"
        },
        "outputId": "f08bafc2-ff86-41a4-9ee8-efbc189b99b9"
      },
      "outputs": [
        {
          "output_type": "execute_result",
          "data": {
            "text/plain": [
              "5"
            ]
          },
          "metadata": {},
          "execution_count": 24
        }
      ],
      "source": [
        "len(primes)"
      ]
    },
    {
      "cell_type": "markdown",
      "metadata": {
        "id": "uHbw6B5JFnE2"
      },
      "source": [
        "To append an element to a list use `append`."
      ]
    },
    {
      "cell_type": "code",
      "execution_count": 25,
      "metadata": {
        "id": "n4HcaitIFnE3"
      },
      "outputs": [],
      "source": [
        "primes.append(13)"
      ]
    },
    {
      "cell_type": "code",
      "execution_count": 26,
      "metadata": {
        "id": "kCy3Jem6FnE_"
      },
      "outputs": [],
      "source": [
        "primes.append(17)"
      ]
    },
    {
      "cell_type": "code",
      "execution_count": 27,
      "metadata": {
        "id": "z-wbQ6hjFnFB",
        "colab": {
          "base_uri": "https://localhost:8080/"
        },
        "outputId": "bb4beefe-437b-48ff-fedd-4330777bb8b7"
      },
      "outputs": [
        {
          "output_type": "execute_result",
          "data": {
            "text/plain": [
              "[2, 3, 5, 7, 11, 13, 17]"
            ]
          },
          "metadata": {},
          "execution_count": 27
        }
      ],
      "source": [
        "primes"
      ]
    },
    {
      "cell_type": "markdown",
      "metadata": {
        "id": "VEn5Y6IdFnFD"
      },
      "source": [
        "Using `append` with a list as parameter adds the list as a single element - producing a list that contains a list as its last element."
      ]
    },
    {
      "cell_type": "code",
      "execution_count": 28,
      "metadata": {
        "id": "g9orkJ6IFnFE",
        "colab": {
          "base_uri": "https://localhost:8080/"
        },
        "outputId": "5f64c37e-0040-4346-df44-f93387f7f850"
      },
      "outputs": [
        {
          "output_type": "execute_result",
          "data": {
            "text/plain": [
              "[2, 3, 5, 7, 11, 13, [17, 19]]"
            ]
          },
          "metadata": {},
          "execution_count": 28
        }
      ],
      "source": [
        "primes = [2, 3, 5, 7, 11, 13]\n",
        "primes.append([17,19])\n",
        "primes"
      ]
    },
    {
      "cell_type": "markdown",
      "metadata": {
        "id": "6jWfCNPbFnFF"
      },
      "source": [
        "That probably isn't what we wanted to do.  \n",
        "If we want to add the elements of one list individually to another list, use the `+=` operator to concatenate the two lists.  "
      ]
    },
    {
      "cell_type": "code",
      "execution_count": 29,
      "metadata": {
        "id": "uHG0fwBFFnFG",
        "colab": {
          "base_uri": "https://localhost:8080/"
        },
        "outputId": "37a28734-c6a6-47e2-af3c-ce91dd9c8804"
      },
      "outputs": [
        {
          "output_type": "execute_result",
          "data": {
            "text/plain": [
              "[2, 3, 5, 7, 11, 13, 17, 19]"
            ]
          },
          "metadata": {},
          "execution_count": 29
        }
      ],
      "source": [
        "primes = [2, 3, 5, 7, 11, 13]\n",
        "primes += [17,19]\n",
        "primes"
      ]
    },
    {
      "cell_type": "markdown",
      "metadata": {
        "id": "Nw5ba4BiFnFH"
      },
      "source": [
        "Quite often when we have a list, we want to do the same thing to everything in that list.  That requires us to write some code to **iterate over the list**.  The most simple way to do this is with a **for** loop\n",
        "\n",
        "To write a for loop that iterates over a list, we use the keywords `for` and `in`, `:`, and **indentation** to indicate the scope of the body of the loop.\n"
      ]
    },
    {
      "cell_type": "code",
      "execution_count": 30,
      "metadata": {
        "id": "kz_wrbY3FnFI",
        "colab": {
          "base_uri": "https://localhost:8080/"
        },
        "outputId": "fc6a670e-d230-4437-99a8-8779bfa9986d"
      },
      "outputs": [
        {
          "output_type": "stream",
          "name": "stdout",
          "text": [
            "2 is a prime\n",
            "3 is a prime\n",
            "5 is a prime\n",
            "7 is a prime\n",
            "11 is a prime\n",
            "13 is a prime\n",
            "17 is a prime\n",
            "19 is a prime\n"
          ]
        }
      ],
      "source": [
        "for prime in primes:\n",
        "    print(str(prime)+\" is a prime\")"
      ]
    },
    {
      "cell_type": "markdown",
      "metadata": {
        "id": "DGrreUJCioB9"
      },
      "source": [
        "The indentation is generated with a tab (or in some environments 4 spaces) and is really important.   It tells Python which commands should be repeated.  Try these:"
      ]
    },
    {
      "cell_type": "code",
      "execution_count": 31,
      "metadata": {
        "id": "3Dl4IV3EioB9",
        "colab": {
          "base_uri": "https://localhost:8080/"
        },
        "outputId": "47c44b1b-eca7-4c50-b39b-b3e576d8b7d8"
      },
      "outputs": [
        {
          "output_type": "stream",
          "name": "stdout",
          "text": [
            "2 is a prime\n",
            "3 is a prime\n",
            "5 is a prime\n",
            "7 is a prime\n",
            "11 is a prime\n",
            "13 is a prime\n",
            "17 is a prime\n",
            "19 is a prime\n",
            "I love python\n"
          ]
        }
      ],
      "source": [
        "for prime in primes:\n",
        "    print(str(prime)+ \" is a prime\")\n",
        "print(\"I love python\")"
      ]
    },
    {
      "cell_type": "code",
      "execution_count": 32,
      "metadata": {
        "id": "e505juQUioB-",
        "colab": {
          "base_uri": "https://localhost:8080/"
        },
        "outputId": "94b76ff5-7e14-4b27-c12e-072b86bab33b"
      },
      "outputs": [
        {
          "output_type": "stream",
          "name": "stdout",
          "text": [
            "2 is a prime\n",
            "I love python\n",
            "3 is a prime\n",
            "I love python\n",
            "5 is a prime\n",
            "I love python\n",
            "7 is a prime\n",
            "I love python\n",
            "11 is a prime\n",
            "I love python\n",
            "13 is a prime\n",
            "I love python\n",
            "17 is a prime\n",
            "I love python\n",
            "19 is a prime\n",
            "I love python\n"
          ]
        }
      ],
      "source": [
        "for prime in primes:\n",
        "    print(str(prime)+ \" is a prime\")\n",
        "    print(\"I love python\")"
      ]
    },
    {
      "cell_type": "markdown",
      "metadata": {
        "id": "PeHQLzjrioB-"
      },
      "source": [
        "There always has to be at least one command in a block that is being repeated, otherwise you'll get an IndentationError.  Expect to see this one a lot (especially if you cut and paste code!)"
      ]
    },
    {
      "cell_type": "code",
      "execution_count": 33,
      "metadata": {
        "id": "am58LM1iioB-",
        "colab": {
          "base_uri": "https://localhost:8080/",
          "height": 141
        },
        "outputId": "5981452d-9fef-41e2-8eb1-5c11530ecca1"
      },
      "outputs": [
        {
          "output_type": "error",
          "ename": "IndentationError",
          "evalue": "ignored",
          "traceback": [
            "\u001b[0;36m  File \u001b[0;32m\"<ipython-input-33-7b446eeaa7b1>\"\u001b[0;36m, line \u001b[0;32m2\u001b[0m\n\u001b[0;31m    print(str(prime)+ \" is a prime\")\u001b[0m\n\u001b[0m    ^\u001b[0m\n\u001b[0;31mIndentationError\u001b[0m\u001b[0;31m:\u001b[0m expected an indented block after 'for' statement on line 1\n"
          ]
        }
      ],
      "source": [
        "for prime in primes:\n",
        "print(str(prime)+ \" is a prime\")\n",
        "print(\"I love python\")"
      ]
    },
    {
      "cell_type": "markdown",
      "metadata": {
        "id": "hLnxGtNbRV2v"
      },
      "source": [
        "In the code above we could have used any variable name instead of prime."
      ]
    },
    {
      "cell_type": "code",
      "execution_count": 34,
      "metadata": {
        "id": "MFHMRXl2RfEJ",
        "colab": {
          "base_uri": "https://localhost:8080/"
        },
        "outputId": "c4d045c6-2635-48bb-8a70-fc4a59797d43"
      },
      "outputs": [
        {
          "output_type": "stream",
          "name": "stdout",
          "text": [
            "2 is a prime\n",
            "3 is a prime\n",
            "5 is a prime\n",
            "7 is a prime\n",
            "11 is a prime\n",
            "13 is a prime\n",
            "17 is a prime\n",
            "19 is a prime\n"
          ]
        }
      ],
      "source": [
        "for alien_planet in primes:\n",
        "    print(alien_planet,\"is a prime\")"
      ]
    },
    {
      "cell_type": "markdown",
      "metadata": {
        "id": "mYqYFFc3RsHV"
      },
      "source": [
        "It is usually best practice to consider the loop variable, alien_planet, as **local** to the loop and not try to access it from outside the loop.  However, if you do, you will get the last value that it had during the iteration."
      ]
    },
    {
      "cell_type": "code",
      "execution_count": 35,
      "metadata": {
        "id": "0RHKRRMYR9qC",
        "colab": {
          "base_uri": "https://localhost:8080/"
        },
        "outputId": "ef0b53ab-ccb5-455f-f0a0-2d2920d56a4c"
      },
      "outputs": [
        {
          "output_type": "execute_result",
          "data": {
            "text/plain": [
              "19"
            ]
          },
          "metadata": {},
          "execution_count": 35
        }
      ],
      "source": [
        "alien_planet"
      ]
    },
    {
      "cell_type": "markdown",
      "metadata": {
        "id": "_3hk-F-rFnFJ"
      },
      "source": [
        "### **Exercise 4a**\n",
        "In the cell below initialise the variable `squares` to be a list of the square numbers from 1 to 16 inclusive."
      ]
    },
    {
      "cell_type": "code",
      "execution_count": 37,
      "metadata": {
        "id": "OXTL_7kXFnFK"
      },
      "outputs": [],
      "source": [
        "squares = [1,4,9,16]"
      ]
    },
    {
      "cell_type": "markdown",
      "metadata": {
        "id": "1MiE0jTzFnFM"
      },
      "source": [
        "### **Exercise 4b**\n",
        "In the cell below append the next square number to the list `squares`."
      ]
    },
    {
      "cell_type": "code",
      "execution_count": 38,
      "metadata": {
        "id": "iQHPyRBFFnFM"
      },
      "outputs": [],
      "source": [
        "squares.append(25)"
      ]
    },
    {
      "cell_type": "markdown",
      "metadata": {
        "id": "2JZTTVByFnFO"
      },
      "source": [
        "### **Exercise 4c**\n",
        "In the cell below make a list of the next two square numbers and concatenate this with `squares`."
      ]
    },
    {
      "cell_type": "code",
      "execution_count": 39,
      "metadata": {
        "id": "jjXQ7mtgFnFO"
      },
      "outputs": [],
      "source": [
        "squares += [36,49]"
      ]
    },
    {
      "cell_type": "markdown",
      "metadata": {
        "id": "2GJgcUJXFnFR"
      },
      "source": [
        "### **Exercise 4d**\n",
        "In the cell  below check how many items are in the list now."
      ]
    },
    {
      "cell_type": "code",
      "execution_count": 40,
      "metadata": {
        "id": "4sH8qIS_FnFR",
        "colab": {
          "base_uri": "https://localhost:8080/"
        },
        "outputId": "615ff5c1-9c44-4603-d68d-c91b08cf0993"
      },
      "outputs": [
        {
          "output_type": "execute_result",
          "data": {
            "text/plain": [
              "[1, 4, 9, 16, 25, 36, 49]"
            ]
          },
          "metadata": {},
          "execution_count": 40
        }
      ],
      "source": [
        "squares"
      ]
    },
    {
      "cell_type": "markdown",
      "metadata": {
        "id": "yuWW0OMLFnFT"
      },
      "source": [
        "### **Exercise 4e**\n",
        "In the cell below use indexing to print just the first 3 and last 3 items in the list `squares`"
      ]
    },
    {
      "cell_type": "code",
      "execution_count": 44,
      "metadata": {
        "id": "fm3KdUy3FnFT",
        "colab": {
          "base_uri": "https://localhost:8080/"
        },
        "outputId": "174ef7d1-02f0-4fd2-c471-a511b020db0b"
      },
      "outputs": [
        {
          "output_type": "stream",
          "name": "stdout",
          "text": [
            "[1, 4, 9]\n",
            "[25, 36, 49]\n"
          ]
        }
      ],
      "source": [
        "print(squares[:3])\n",
        "print(squares[-3:])"
      ]
    },
    {
      "cell_type": "markdown",
      "metadata": {
        "id": "hHFAAuPCFnFV"
      },
      "source": [
        "### **Exercise 4f**\n",
        "In the cell below, use a `for` loop to print each item in the list `squares` on its own line, as part of a sentence. The output should like like this:\n",
        "```\n",
        "The first square in the list is  1\n",
        "The next square in the list is  4\n",
        "The next square in the list is  9\n",
        "The next square in the list is  16\n",
        "The next square in the list is  25\n",
        "The next square in the list is  36\n",
        "The last square in the list is  49\n",
        "```"
      ]
    },
    {
      "cell_type": "code",
      "execution_count": 52,
      "metadata": {
        "id": "j6ua5ADfFnFV",
        "colab": {
          "base_uri": "https://localhost:8080/"
        },
        "outputId": "1f5b64b4-9295-45fc-c282-3acafeb77025"
      },
      "outputs": [
        {
          "output_type": "stream",
          "name": "stdout",
          "text": [
            "The first square in the list is 1\n",
            "The next square in the list is 4\n",
            "The next square in the list is 9\n",
            "The next square in the list is 16\n",
            "The next square in the list is 25\n",
            "The next square in the list is 36\n",
            "The last square in the list is 49\n"
          ]
        }
      ],
      "source": [
        "\n",
        "for number in squares:\n",
        "\n",
        "#\n",
        "  if number == squares[0]:\n",
        "    calling = \"first\"\n",
        "  elif number == squares[-1]:\n",
        "    calling = \"last\"\n",
        "  else:\n",
        "    calling = \"next\"\n",
        "\n",
        "  print(\"The \" + calling + \" square in the list is \" + str(number))\n"
      ]
    },
    {
      "cell_type": "markdown",
      "metadata": {
        "id": "sOq3iuIVFnFW"
      },
      "source": [
        "## 1.1.7 Strings\n",
        "\n",
        "We are now going to take a bit more of an in-depth look at Strings.  \n",
        "\n",
        "We often think of Strings as an atomic data types, like integers and floats, out of which we might make other more complex types (e.g., lists) but which can't be broken down any further.  But actually, a String can be thought of as a complex datatype - it is a **list** of **characters**. We just have an easier way of writing it (as a String e.g., 'Adam')) rather than using the square brackets notation ['A','d','a','m'].   \n",
        "\n",
        "However, Python lets us use a lot of list functionality straightforwardly on Strings."
      ]
    },
    {
      "cell_type": "code",
      "execution_count": 45,
      "metadata": {
        "id": "BAXv-YRaFnFW"
      },
      "outputs": [],
      "source": [
        "# Here we asign a string \"Hello World\" as the value a variable called hello_world\n",
        "hello_world = \"Hello World\""
      ]
    },
    {
      "cell_type": "markdown",
      "metadata": {
        "collapsed": true,
        "id": "Aa2OCoetFnFY"
      },
      "source": [
        "String indexing is similar to list indexing, but works on a character-by-character basis."
      ]
    },
    {
      "cell_type": "code",
      "execution_count": 60,
      "metadata": {
        "id": "b7iIC4TSFnFY",
        "colab": {
          "base_uri": "https://localhost:8080/",
          "height": 35
        },
        "outputId": "6cb500ac-6876-4a2f-916f-2f30e2f94b97"
      },
      "outputs": [
        {
          "output_type": "execute_result",
          "data": {
            "text/plain": [
              "'H'"
            ],
            "application/vnd.google.colaboratory.intrinsic+json": {
              "type": "string"
            }
          },
          "metadata": {},
          "execution_count": 60
        }
      ],
      "source": [
        "hello_world[0]"
      ]
    },
    {
      "cell_type": "code",
      "execution_count": 61,
      "metadata": {
        "id": "q5fw0CKBFnFa",
        "colab": {
          "base_uri": "https://localhost:8080/",
          "height": 35
        },
        "outputId": "e26e27ee-7bf2-449f-ca68-3047d2e23fd6"
      },
      "outputs": [
        {
          "output_type": "execute_result",
          "data": {
            "text/plain": [
              "'o'"
            ],
            "application/vnd.google.colaboratory.intrinsic+json": {
              "type": "string"
            }
          },
          "metadata": {},
          "execution_count": 61
        }
      ],
      "source": [
        "hello_world[7]"
      ]
    },
    {
      "cell_type": "code",
      "execution_count": 62,
      "metadata": {
        "id": "e-v9PqOCFnFc",
        "colab": {
          "base_uri": "https://localhost:8080/",
          "height": 35
        },
        "outputId": "ed1c7c99-3fdc-466f-8589-c932654df13d"
      },
      "outputs": [
        {
          "output_type": "execute_result",
          "data": {
            "text/plain": [
              "'rld'"
            ],
            "application/vnd.google.colaboratory.intrinsic+json": {
              "type": "string"
            }
          },
          "metadata": {},
          "execution_count": 62
        }
      ],
      "source": [
        "hello_world[-3:]"
      ]
    },
    {
      "cell_type": "code",
      "execution_count": null,
      "metadata": {
        "id": "EIwY52m6FnFf"
      },
      "outputs": [],
      "source": [
        "hello_world[-40]"
      ]
    },
    {
      "cell_type": "markdown",
      "metadata": {
        "id": "j42hPerjUUkR"
      },
      "source": [
        "Can you work out why the error above was generated?"
      ]
    },
    {
      "cell_type": "markdown",
      "metadata": {
        "id": "yq2G6N80FnFg"
      },
      "source": [
        "We can also easily test for substring presence using the keyword `in`."
      ]
    },
    {
      "cell_type": "code",
      "execution_count": 64,
      "metadata": {
        "id": "AuHVPkHzFnFg",
        "colab": {
          "base_uri": "https://localhost:8080/"
        },
        "outputId": "dead408e-1b96-40ea-e624-e523a885ce85"
      },
      "outputs": [
        {
          "output_type": "execute_result",
          "data": {
            "text/plain": [
              "False"
            ]
          },
          "metadata": {},
          "execution_count": 64
        }
      ],
      "source": [
        "\"w\" in hello_world"
      ]
    },
    {
      "cell_type": "code",
      "execution_count": 65,
      "metadata": {
        "id": "yxNA0rS4FnFi",
        "colab": {
          "base_uri": "https://localhost:8080/"
        },
        "outputId": "1fd187fc-6cf2-4a67-b563-9982ee8a5255"
      },
      "outputs": [
        {
          "output_type": "execute_result",
          "data": {
            "text/plain": [
              "True"
            ]
          },
          "metadata": {},
          "execution_count": 65
        }
      ],
      "source": [
        "\"W\" in hello_world"
      ]
    },
    {
      "cell_type": "code",
      "execution_count": 66,
      "metadata": {
        "id": "15GMd-OdFnFj",
        "colab": {
          "base_uri": "https://localhost:8080/"
        },
        "outputId": "f39cc05a-a743-4af5-bb20-d21f9f0f5dc3"
      },
      "outputs": [
        {
          "output_type": "execute_result",
          "data": {
            "text/plain": [
              "True"
            ]
          },
          "metadata": {},
          "execution_count": 66
        }
      ],
      "source": [
        "\"llo\" in hello_world"
      ]
    },
    {
      "cell_type": "markdown",
      "metadata": {
        "id": "FT5KfPVuFnFm"
      },
      "source": [
        "We can also find the length of a string using `len`.\n",
        "\n",
        "Note that the output value is a count including spaces, tabs and non-alphanumeric characters."
      ]
    },
    {
      "cell_type": "code",
      "execution_count": 68,
      "metadata": {
        "id": "LGy44LuIFnFn",
        "colab": {
          "base_uri": "https://localhost:8080/"
        },
        "outputId": "20594953-774d-4a6b-e841-0516ffc4b488"
      },
      "outputs": [
        {
          "output_type": "execute_result",
          "data": {
            "text/plain": [
              "11"
            ]
          },
          "metadata": {},
          "execution_count": 68
        }
      ],
      "source": [
        "len(hello_world)"
      ]
    },
    {
      "cell_type": "code",
      "execution_count": 69,
      "metadata": {
        "id": "qONhPfKYFnFq",
        "colab": {
          "base_uri": "https://localhost:8080/",
          "height": 35
        },
        "outputId": "980581fe-a39a-4b65-9c69-8572707bdb50"
      },
      "outputs": [
        {
          "output_type": "execute_result",
          "data": {
            "text/plain": [
              "'Hello World!'"
            ],
            "application/vnd.google.colaboratory.intrinsic+json": {
              "type": "string"
            }
          },
          "metadata": {},
          "execution_count": 69
        }
      ],
      "source": [
        "hello_world+=\"!\"\n",
        "hello_world"
      ]
    },
    {
      "cell_type": "code",
      "execution_count": 70,
      "metadata": {
        "id": "8eSUPBugFnFs",
        "colab": {
          "base_uri": "https://localhost:8080/"
        },
        "outputId": "b9dc732d-d8fe-40ba-badd-68e6b606751b"
      },
      "outputs": [
        {
          "output_type": "execute_result",
          "data": {
            "text/plain": [
              "12"
            ]
          },
          "metadata": {},
          "execution_count": 70
        }
      ],
      "source": [
        "len(hello_world)"
      ]
    },
    {
      "cell_type": "markdown",
      "metadata": {
        "id": "2wTFgqf5FnFu"
      },
      "source": [
        "We can iterating over a string with the same syntax as in normal list iteration.  However, it now works on a character-by-character basis.  In other words, in each iteration of the loop, the loop variable will the next character in the string."
      ]
    },
    {
      "cell_type": "code",
      "execution_count": 71,
      "metadata": {
        "id": "ThioQVUeFnFv",
        "scrolled": true,
        "colab": {
          "base_uri": "https://localhost:8080/"
        },
        "outputId": "c927493a-84db-43ae-d526-eb119fd6424c"
      },
      "outputs": [
        {
          "output_type": "stream",
          "name": "stdout",
          "text": [
            "the character >>> H <<< is present\n",
            "the character >>> e <<< is present\n",
            "the character >>> l <<< is present\n",
            "the character >>> l <<< is present\n",
            "the character >>> o <<< is present\n",
            "the character >>>   <<< is present\n",
            "the character >>> W <<< is present\n",
            "the character >>> o <<< is present\n",
            "the character >>> r <<< is present\n",
            "the character >>> l <<< is present\n",
            "the character >>> d <<< is present\n",
            "the character >>> ! <<< is present\n"
          ]
        }
      ],
      "source": [
        "for char in hello_world:\n",
        "    print (\"the character >>>\", char, \"<<< is present\")"
      ]
    },
    {
      "cell_type": "markdown",
      "metadata": {
        "id": "T04w6XywFnFw"
      },
      "source": [
        "The `split` method provides a simplistic way to parse a string into words.   By default, it separates based on whitespace and will returns a list of *tokens*.   We will learn more about tokenisation in week 2.\n",
        "\n",
        "An optional character can be passed to split as an argument.  See the difference if you change the following cell so that the second line reads `words = sentence.split('s')`\n",
        "\n"
      ]
    },
    {
      "cell_type": "code",
      "execution_count": 73,
      "metadata": {
        "id": "VY06-E-DFnFw",
        "colab": {
          "base_uri": "https://localhost:8080/"
        },
        "outputId": "4c7cd76c-ed39-4093-beaa-ca0c356d763d"
      },
      "outputs": [
        {
          "output_type": "stream",
          "name": "stdout",
          "text": [
            "['This', 'is', 'a', 'sample', 'sentence']\n"
          ]
        }
      ],
      "source": [
        "sentence = \"This is a sample sentence\"\n",
        "words = sentence.split()\n",
        "print(words)"
      ]
    },
    {
      "cell_type": "markdown",
      "metadata": {
        "id": "hDYvadFcFnFy"
      },
      "source": [
        "To check for the presence of a token in a list of words, we use the `in` keyword."
      ]
    },
    {
      "cell_type": "code",
      "execution_count": 74,
      "metadata": {
        "id": "tEQULa_GFnFy",
        "colab": {
          "base_uri": "https://localhost:8080/"
        },
        "outputId": "15ed2006-690f-4464-ef8a-be6143bee14f"
      },
      "outputs": [
        {
          "output_type": "execute_result",
          "data": {
            "text/plain": [
              "True"
            ]
          },
          "metadata": {},
          "execution_count": 74
        }
      ],
      "source": [
        "\"sample\" in words"
      ]
    },
    {
      "cell_type": "code",
      "execution_count": 75,
      "metadata": {
        "id": "skIVESMtFnF1",
        "colab": {
          "base_uri": "https://localhost:8080/"
        },
        "outputId": "72d620be-de49-49e6-e0c9-630c0266a017"
      },
      "outputs": [
        {
          "output_type": "execute_result",
          "data": {
            "text/plain": [
              "False"
            ]
          },
          "metadata": {},
          "execution_count": 75
        }
      ],
      "source": [
        "\"Hello\" in words"
      ]
    },
    {
      "cell_type": "markdown",
      "metadata": {
        "id": "vSD6ryJ0FnF3"
      },
      "source": [
        "### **Exercise 5a**\n",
        "In the empty cell below  assign the string `\"It was the best of times, it was the worst of times\"` to the variable `opening_line`."
      ]
    },
    {
      "cell_type": "code",
      "execution_count": 76,
      "metadata": {
        "id": "0_7qJQh9FnF3"
      },
      "outputs": [],
      "source": [
        "opening_line = \"It was the best of times, it was the worst of times\""
      ]
    },
    {
      "cell_type": "markdown",
      "metadata": {
        "id": "eUmppDYUFnF4"
      },
      "source": [
        "### **Exercise 5b**\n",
        "In the empty cell below check whether 'worst' appears in opening_line."
      ]
    },
    {
      "cell_type": "code",
      "execution_count": 77,
      "metadata": {
        "id": "z7Tzp0tXFnF5",
        "colab": {
          "base_uri": "https://localhost:8080/"
        },
        "outputId": "1844e365-52b3-4c0b-864b-944356400dff"
      },
      "outputs": [
        {
          "output_type": "execute_result",
          "data": {
            "text/plain": [
              "True"
            ]
          },
          "metadata": {},
          "execution_count": 77
        }
      ],
      "source": [
        "\"worst\" in opening_line"
      ]
    },
    {
      "cell_type": "markdown",
      "metadata": {
        "id": "r1aqBXdFFnF7"
      },
      "source": [
        "### **Exercise 5c**\n",
        "In the empty cell below make a list of the words in `opening_line`, assigned to the variable `dickens_words`, and iterate over `dickens_words`, printing one word per line."
      ]
    },
    {
      "cell_type": "code",
      "execution_count": 79,
      "metadata": {
        "id": "CTnxohYeFnF8",
        "colab": {
          "base_uri": "https://localhost:8080/"
        },
        "outputId": "9cc9bbeb-85d2-4f95-dcfe-1bc26b50ec88"
      },
      "outputs": [
        {
          "output_type": "stream",
          "name": "stdout",
          "text": [
            "It\n",
            "was\n",
            "the\n",
            "best\n",
            "of\n",
            "times,\n",
            "it\n",
            "was\n",
            "the\n",
            "worst\n",
            "of\n",
            "times\n"
          ]
        }
      ],
      "source": [
        "dickens_words = opening_line.split()\n",
        "for word in dickens_words:\n",
        "  print(word)"
      ]
    },
    {
      "cell_type": "markdown",
      "metadata": {
        "id": "-UynQcnOFnF-"
      },
      "source": [
        "### **Exercise 5d**\n",
        "In the empty cell below check whether `'blurst'` appears in the list you made."
      ]
    },
    {
      "cell_type": "code",
      "execution_count": 81,
      "metadata": {
        "id": "o3iB4oI1FnF-",
        "colab": {
          "base_uri": "https://localhost:8080/"
        },
        "outputId": "5f850b2d-5267-4f1a-e349-24806f963502"
      },
      "outputs": [
        {
          "output_type": "execute_result",
          "data": {
            "text/plain": [
              "True"
            ]
          },
          "metadata": {},
          "execution_count": 81
        }
      ],
      "source": [
        "\"blurst\" in dickens_words"
      ]
    },
    {
      "cell_type": "markdown",
      "metadata": {
        "id": "sHfzJYHxFnF_"
      },
      "source": [
        "## 1.1.8 Conditions and booleans\n",
        "\n",
        "Finally, we are going to take a quick look at conditional statements.  In the code below, note the use of the keywords if and else as well as the presence of the colons (:) and the indentation."
      ]
    },
    {
      "cell_type": "code",
      "execution_count": 82,
      "metadata": {
        "id": "eUsZnlJdFnF_",
        "colab": {
          "base_uri": "https://localhost:8080/"
        },
        "outputId": "42fdb3ef-2af7-4c2b-ceb0-6e4fd6e8893b"
      },
      "outputs": [
        {
          "output_type": "stream",
          "name": "stdout",
          "text": [
            "no\n"
          ]
        }
      ],
      "source": [
        "if 2 > 3:\n",
        "    print (\"yes\")\n",
        "else:\n",
        "    print (\"no\")"
      ]
    },
    {
      "cell_type": "code",
      "execution_count": 83,
      "metadata": {
        "id": "rP--VoqtWHqs",
        "colab": {
          "base_uri": "https://localhost:8080/"
        },
        "outputId": "8b48cf2a-5b4b-493f-b715-5aac4b1484fe"
      },
      "outputs": [
        {
          "output_type": "stream",
          "name": "stdout",
          "text": [
            "its a short sentence\n"
          ]
        }
      ],
      "source": [
        "if len(words) > 10:\n",
        "    print(\"its a long sentence\")\n",
        "else:\n",
        "    print(\"its a short sentence\")"
      ]
    },
    {
      "cell_type": "markdown",
      "metadata": {
        "id": "6rXqBdmcFnGA"
      },
      "source": [
        "There are some useful string *shape* methods, which form part of the String class and can be used to test for certain types of string.  Work out what each of the following test for:\n",
        "- astring.isalpha()\n",
        "- astring.isalnum()\n",
        "- astring.isdigit()"
      ]
    },
    {
      "cell_type": "code",
      "execution_count": 84,
      "metadata": {
        "id": "GL0avJLuFnGB",
        "colab": {
          "base_uri": "https://localhost:8080/"
        },
        "outputId": "7e4554cc-2b60-4030-ece0-78d6d9c9f749"
      },
      "outputs": [
        {
          "output_type": "execute_result",
          "data": {
            "text/plain": [
              "True"
            ]
          },
          "metadata": {},
          "execution_count": 84
        }
      ],
      "source": [
        "\"This\".isalpha()"
      ]
    },
    {
      "cell_type": "code",
      "execution_count": 85,
      "metadata": {
        "id": "RaiZFN-EFnGC",
        "colab": {
          "base_uri": "https://localhost:8080/"
        },
        "outputId": "4b352a5a-7907-4034-d42f-e155c9c3add2"
      },
      "outputs": [
        {
          "output_type": "execute_result",
          "data": {
            "text/plain": [
              "False"
            ]
          },
          "metadata": {},
          "execution_count": 85
        }
      ],
      "source": [
        "\"This,\".isalpha()"
      ]
    },
    {
      "cell_type": "code",
      "execution_count": 86,
      "metadata": {
        "id": "_QYMUHtpFnGD",
        "colab": {
          "base_uri": "https://localhost:8080/"
        },
        "outputId": "e3cadc9d-0e70-4441-a832-78256b76088a"
      },
      "outputs": [
        {
          "output_type": "execute_result",
          "data": {
            "text/plain": [
              "False"
            ]
          },
          "metadata": {},
          "execution_count": 86
        }
      ],
      "source": [
        "\"M25\".isalpha()"
      ]
    },
    {
      "cell_type": "code",
      "execution_count": 87,
      "metadata": {
        "id": "I3p0_OqDFnGF",
        "colab": {
          "base_uri": "https://localhost:8080/"
        },
        "outputId": "65d93ec5-dd4a-475e-f81d-3be1e8f9ef3d"
      },
      "outputs": [
        {
          "output_type": "execute_result",
          "data": {
            "text/plain": [
              "True"
            ]
          },
          "metadata": {},
          "execution_count": 87
        }
      ],
      "source": [
        "\"M25\".isalnum()"
      ]
    },
    {
      "cell_type": "code",
      "execution_count": 88,
      "metadata": {
        "id": "eqOg7b9RFnGH",
        "colab": {
          "base_uri": "https://localhost:8080/"
        },
        "outputId": "7f6d6639-b683-43b3-946b-3bb6d9fc3c27"
      },
      "outputs": [
        {
          "output_type": "execute_result",
          "data": {
            "text/plain": [
              "True"
            ]
          },
          "metadata": {},
          "execution_count": 88
        }
      ],
      "source": [
        "\"463\".isdigit()"
      ]
    },
    {
      "cell_type": "markdown",
      "metadata": {
        "id": "3mf_CdfsFnGU"
      },
      "source": [
        "Boolean statements can be combined using `and`. Both must be true for the combination to be evaluated as `True`."
      ]
    },
    {
      "cell_type": "code",
      "execution_count": 91,
      "metadata": {
        "id": "G9pmtAL8FnGV",
        "colab": {
          "base_uri": "https://localhost:8080/"
        },
        "outputId": "90d2e73f-a16c-4acb-ee92-96821daf09e4"
      },
      "outputs": [
        {
          "output_type": "execute_result",
          "data": {
            "text/plain": [
              "True"
            ]
          },
          "metadata": {},
          "execution_count": 91
        }
      ],
      "source": [
        "True and True"
      ]
    },
    {
      "cell_type": "code",
      "execution_count": 92,
      "metadata": {
        "id": "25HHGhvpFnGW",
        "colab": {
          "base_uri": "https://localhost:8080/"
        },
        "outputId": "199b5870-f96d-4ec0-fad7-37696e2b05b4"
      },
      "outputs": [
        {
          "output_type": "execute_result",
          "data": {
            "text/plain": [
              "False"
            ]
          },
          "metadata": {},
          "execution_count": 92
        }
      ],
      "source": [
        "False and True"
      ]
    },
    {
      "cell_type": "markdown",
      "metadata": {
        "id": "7fvxxpZwFnGX"
      },
      "source": [
        "Boolean statements can be combined using `or`. At least one statement must be true for the combination to be evaluated as `True`."
      ]
    },
    {
      "cell_type": "code",
      "execution_count": 89,
      "metadata": {
        "id": "sf4vp2hKFnGX",
        "colab": {
          "base_uri": "https://localhost:8080/"
        },
        "outputId": "4ee5869e-fdb4-416f-99e9-5ed14c91f5bc"
      },
      "outputs": [
        {
          "output_type": "execute_result",
          "data": {
            "text/plain": [
              "True"
            ]
          },
          "metadata": {},
          "execution_count": 89
        }
      ],
      "source": [
        "False or True"
      ]
    },
    {
      "cell_type": "code",
      "execution_count": 90,
      "metadata": {
        "id": "qJB88s3eFnGY",
        "colab": {
          "base_uri": "https://localhost:8080/"
        },
        "outputId": "4396ca06-84d1-4498-ab9f-1498313fde2b"
      },
      "outputs": [
        {
          "output_type": "execute_result",
          "data": {
            "text/plain": [
              "True"
            ]
          },
          "metadata": {},
          "execution_count": 90
        }
      ],
      "source": [
        "True or False"
      ]
    },
    {
      "cell_type": "markdown",
      "metadata": {
        "id": "Wc7zgRHIFnGZ"
      },
      "source": [
        "A boolean statement can be negated using `not`."
      ]
    },
    {
      "cell_type": "code",
      "execution_count": null,
      "metadata": {
        "id": "aNZNTHQ7FnGa"
      },
      "outputs": [],
      "source": [
        "not True"
      ]
    },
    {
      "cell_type": "code",
      "execution_count": null,
      "metadata": {
        "id": "B9RCMNzbFnGc"
      },
      "outputs": [],
      "source": [
        "not False"
      ]
    },
    {
      "cell_type": "code",
      "execution_count": null,
      "metadata": {
        "id": "osjIwJRWFnGd"
      },
      "outputs": [],
      "source": []
    },
    {
      "cell_type": "code",
      "execution_count": null,
      "metadata": {
        "id": "JEzM9rxwFnGe"
      },
      "outputs": [],
      "source": []
    },
    {
      "cell_type": "code",
      "execution_count": null,
      "metadata": {
        "id": "6qrti6HJFnGg"
      },
      "outputs": [],
      "source": []
    }
  ],
  "metadata": {
    "anaconda-cloud": {},
    "colab": {
      "provenance": [],
      "include_colab_link": true
    },
    "kernelspec": {
      "display_name": "Python 3",
      "language": "python",
      "name": "python3"
    },
    "language_info": {
      "codemirror_mode": {
        "name": "ipython",
        "version": 3
      },
      "file_extension": ".py",
      "mimetype": "text/x-python",
      "name": "python",
      "nbconvert_exporter": "python",
      "pygments_lexer": "ipython3",
      "version": "3.7.4"
    }
  },
  "nbformat": 4,
  "nbformat_minor": 0
}